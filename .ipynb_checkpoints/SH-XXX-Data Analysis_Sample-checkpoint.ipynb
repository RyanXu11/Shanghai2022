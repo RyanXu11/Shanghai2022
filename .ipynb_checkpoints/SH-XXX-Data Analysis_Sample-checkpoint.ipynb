{
 "cells": [
  {
   "cell_type": "markdown",
   "id": "a8e59b03",
   "metadata": {},
   "source": [
    "# About 2 Million Members Age and Gender Distribution Analysis"
   ]
  },
  {
   "cell_type": "markdown",
   "id": "0544c3cf",
   "metadata": {},
   "source": [
    "# Background\n",
    "There are about 2 million members in an organization in Shanghai, this analysis will reveal the age and gender distribution of them.\n",
    "\n",
    "For secret reason, sensitive information removed from the original, call the organization \"XXX\" in this report."
   ]
  },
  {
   "cell_type": "markdown",
   "id": "8dfecf9c",
   "metadata": {},
   "source": [
    "# 1. import modules"
   ]
  },
  {
   "cell_type": "code",
   "execution_count": 2,
   "id": "f3824939",
   "metadata": {
    "execution": {
     "iopub.execute_input": "2024-06-29T15:23:08.571856Z",
     "iopub.status.busy": "2024-06-29T15:23:08.571856Z",
     "iopub.status.idle": "2024-06-29T15:23:11.723465Z",
     "shell.execute_reply": "2024-06-29T15:23:11.723465Z",
     "shell.execute_reply.started": "2024-06-29T15:23:08.571856Z"
    }
   },
   "outputs": [],
   "source": [
    "import numpy as np\n",
    "import pandas as pd\n",
    "import matplotlib.pyplot as plt\n",
    "import seaborn as sns\n",
    "# from datetime import date\n",
    "import datetime"
   ]
  },
  {
   "cell_type": "code",
   "execution_count": 3,
   "id": "f1bde9c5",
   "metadata": {
    "execution": {
     "iopub.execute_input": "2024-06-29T15:23:18.505280Z",
     "iopub.status.busy": "2024-06-29T15:23:18.505280Z",
     "iopub.status.idle": "2024-06-29T15:23:18.509195Z",
     "shell.execute_reply": "2024-06-29T15:23:18.509195Z",
     "shell.execute_reply.started": "2024-06-29T15:23:18.505280Z"
    }
   },
   "outputs": [],
   "source": [
    "pd.options.mode.chained_assignment = None  # default='warn'"
   ]
  },
  {
   "cell_type": "markdown",
   "id": "8a249e40",
   "metadata": {},
   "source": [
    "# 2. read csv file"
   ]
  },
  {
   "cell_type": "code",
   "execution_count": 5,
   "id": "c73947b9",
   "metadata": {
    "execution": {
     "iopub.execute_input": "2024-06-29T15:26:39.846756Z",
     "iopub.status.busy": "2024-06-29T15:26:39.846756Z",
     "iopub.status.idle": "2024-06-29T15:26:44.915028Z",
     "shell.execute_reply": "2024-06-29T15:26:44.915028Z",
     "shell.execute_reply.started": "2024-06-29T15:26:39.846756Z"
    },
    "scrolled": true,
    "tags": []
   },
   "outputs": [
    {
     "name": "stdout",
     "output_type": "stream",
     "text": [
      "(1956731, 3)\n",
      "<class 'pandas.core.frame.DataFrame'>\n",
      "RangeIndex: 1956731 entries, 0 to 1956730\n",
      "Data columns (total 3 columns):\n",
      " #   Column       Dtype \n",
      "---  ------       ----- \n",
      " 0   id           int64 \n",
      " 1   sex          object\n",
      " 2   id_card_num  object\n",
      "dtypes: int64(1), object(2)\n",
      "memory usage: 44.8+ MB\n",
      "None\n"
     ]
    }
   ],
   "source": [
    "# read the original csv file to df_all\n",
    "columns = ['id', 'sex', 'id_card_num']\n",
    "df_all=pd.read_csv('shanghai-XXX-member-ch-en.csv',sep='\\t', usecols=columns, low_memory=False)\n",
    "print(df_all.shape)\n",
    "print(df_all.info())"
   ]
  },
  {
   "cell_type": "markdown",
   "id": "b77bed7f",
   "metadata": {},
   "source": [
    "# 3. Age Distribution\n",
    "## 3.1 clean date: id_card_num for age"
   ]
  },
  {
   "cell_type": "code",
   "execution_count": 7,
   "id": "fc07c23b-9b37-47cc-a06b-8425a935b006",
   "metadata": {
    "execution": {
     "iopub.execute_input": "2024-06-29T15:28:13.177686Z",
     "iopub.status.busy": "2024-06-29T15:28:13.177686Z",
     "iopub.status.idle": "2024-06-29T15:28:13.279554Z",
     "shell.execute_reply": "2024-06-29T15:28:13.279043Z",
     "shell.execute_reply.started": "2024-06-29T15:28:13.177686Z"
    }
   },
   "outputs": [
    {
     "name": "stdout",
     "output_type": "stream",
     "text": [
      "id                 0\n",
      "sex                0\n",
      "id_card_num    21072\n",
      "dtype: int64\n",
      "df_all shape:  (1956731, 3) \n",
      "\n"
     ]
    }
   ],
   "source": [
    "# clean the data: id_card_num == NaN, save to df3\n",
    "print(df_all.isna().sum())\n",
    "print('df_all shape: ',df_all.shape,'\\n')"
   ]
  },
  {
   "cell_type": "code",
   "execution_count": 8,
   "id": "45ffc63b",
   "metadata": {
    "execution": {
     "iopub.execute_input": "2024-06-29T15:28:44.391075Z",
     "iopub.status.busy": "2024-06-29T15:28:44.390075Z",
     "iopub.status.idle": "2024-06-29T15:28:44.533240Z",
     "shell.execute_reply": "2024-06-29T15:28:44.533240Z",
     "shell.execute_reply.started": "2024-06-29T15:28:44.391075Z"
    }
   },
   "outputs": [
    {
     "name": "stdout",
     "output_type": "stream",
     "text": [
      "df_noMissing shape:  (1935659, 3)\n"
     ]
    }
   ],
   "source": [
    "df_noMissing = df_all.dropna(subset=['id_card_num'])\n",
    "print('df_noMissing shape: ',df_noMissing.shape)"
   ]
  },
  {
   "cell_type": "code",
   "execution_count": 6,
   "id": "2b35535d",
   "metadata": {},
   "outputs": [],
   "source": [
    "# prepared two defs\n",
    "def isValidDate(datestr):\n",
    "    try:\n",
    "        datestr = datestr[0:4] + '-' + datestr[4:6] + '-' + datestr[-2:]\n",
    "        date.fromisoformat(datestr)\n",
    "    except:\n",
    "        return False\n",
    "    else:\n",
    "        return True\n",
    "\n",
    "def isValidDate2(datestr):\n",
    "    if (len(datestr) != 8) | (not datestr.isdigit()):\n",
    "        return False\n",
    "    else:\n",
    "        year = int(datestr[:4])\n",
    "        month = int(datestr[4:6])\n",
    "        day = int(datestr[6:])\n",
    "        \n",
    "        if (month == 1) | (month == 3) | (month == 5) | (month == 7) | (month == 8) | (month == 10) | (month == 12):\n",
    "            if day <32:\n",
    "                return True\n",
    "            else:\n",
    "                return False\n",
    "        if (month == 4) | (month == 6) | (month == 9) | (month == 11):\n",
    "            if day <31:\n",
    "                return True\n",
    "            else:\n",
    "                return False\n",
    "        if month == 2:\n",
    "            if (year%4 == 0) & (year%400 != 0):\n",
    "                if day < 30:\n",
    "                    return True\n",
    "                else:\n",
    "                    return False\n",
    "            else:\n",
    "                if day < 29:\n",
    "                    return True\n",
    "                else:\n",
    "                    return False\n",
    "        else:\n",
    "            return False"
   ]
  },
  {
   "cell_type": "code",
   "execution_count": 7,
   "id": "268ad0be",
   "metadata": {},
   "outputs": [
    {
     "name": "stdout",
     "output_type": "stream",
     "text": [
      "1971-11-33\n",
      "False\n",
      "False\n"
     ]
    }
   ],
   "source": [
    "# To test two def(s) above\n",
    "s = '19711133'\n",
    "s1=s[0:4] + '-' + s[4:6] + '-' + s[-2:]\n",
    "print(s1)\n",
    "#date.fromisoformat(s1)\n",
    "print(isValidDate(s))\n",
    "print(isValidDate2(s))"
   ]
  },
  {
   "cell_type": "code",
   "execution_count": 8,
   "id": "4df66c64",
   "metadata": {
    "scrolled": true
   },
   "outputs": [
    {
     "name": "stdout",
     "output_type": "stream",
     "text": [
      "df3 shape:  (1935659, 6)\n",
      "         sex         id_card_num       dob\n",
      "0  女(Female)  310110198305082041  19830508\n",
      "1    男(male)  310102195310292031  19531029\n",
      "2    男(male)  310103192904081218  19290408\n",
      "3  女(Female)  310108197401092446  19740109\n",
      "4    男(male)  310102194212200039  19421220\n"
     ]
    }
   ],
   "source": [
    "# extract date of birth from \"id_card_num\"\n",
    "df3 = df2.dropna(subset=['id_card_num'])\n",
    "dob = df3['id_card_num'].str.slice(6,14)\n",
    "\n",
    "#for this step is performed several times during the test, so add the if clause\n",
    "if set('dob').issubset(df3.columns):\n",
    "    df2.drop(['dob'],axis=1,inplace=True)\n",
    "    \n",
    "df3['dob'] = dob\n",
    "print('df3 shape: ',df3.shape)\n",
    "print(df3[['sex','id_card_num','dob']].head())"
   ]
  },
  {
   "cell_type": "code",
   "execution_count": 9,
   "id": "f81b4119",
   "metadata": {},
   "outputs": [],
   "source": [
    "# import swifter to speed\n",
    "import swifter"
   ]
  },
  {
   "cell_type": "code",
   "execution_count": 10,
   "id": "9ceb3dec",
   "metadata": {
    "scrolled": true
   },
   "outputs": [
    {
     "data": {
      "application/vnd.jupyter.widget-view+json": {
       "model_id": "9ba8d0ffcafe414aa4128e2282e9b4b4",
       "version_major": 2,
       "version_minor": 0
      },
      "text/plain": [
       "Pandas Apply:   0%|          | 0/1935659 [00:00<?, ?it/s]"
      ]
     },
     "metadata": {},
     "output_type": "display_data"
    },
    {
     "name": "stdout",
     "output_type": "stream",
     "text": [
      "df3 shape:           Unnamed: 0       id name        sex         id_card_num       dob  \\\n",
      "0                 0        1  陶凌霞  女(Female)  310110198305082041  19830508   \n",
      "1                 1        2  吕清逸    男(male)  310102195310292031  19531029   \n",
      "2                 2        3  姚茂华    男(male)  310103192904081218  19290408   \n",
      "3                 3        4  王海玲  女(Female)  310108197401092446  19740109   \n",
      "4                 4        5  杨敷敦    男(male)  310102194212200039  19421220   \n",
      "...             ...      ...  ...        ...                 ...       ...   \n",
      "1956726     1956726  1957235  衣艳荣    男(male)  11022119780918831X  19780918   \n",
      "1956727     1956727  1957236   周明    男(male)  310101196602235213  19660223   \n",
      "1956728     1956728  1957237  魏新辉    男(male)  35030319930228101X  19930228   \n",
      "1956729     1956729  1957238  沈佳斌    男(male)  310102199202241630  19920224   \n",
      "1956730     1956730  1957239  周玉梅  女(Female)  620423198302106520  19830210   \n",
      "\n",
      "         ageCheck  \n",
      "0            True  \n",
      "1            True  \n",
      "2            True  \n",
      "3            True  \n",
      "4            True  \n",
      "...           ...  \n",
      "1956726      True  \n",
      "1956727      True  \n",
      "1956728      True  \n",
      "1956729      True  \n",
      "1956730      True  \n",
      "\n",
      "[1935659 rows x 7 columns]\n"
     ]
    }
   ],
   "source": [
    "# if no swifter the calculate time is about 1 min, but with it only several seconds!\n",
    "ageCheck = df3['dob'].swifter.apply(lambda x: isValidDate2(x))\n",
    "df3['ageCheck'] = ageCheck\n",
    "print('df3 shape: ', df3)"
   ]
  },
  {
   "cell_type": "code",
   "execution_count": 11,
   "id": "9c8b29ec",
   "metadata": {
    "scrolled": true
   },
   "outputs": [
    {
     "name": "stdout",
     "output_type": "stream",
     "text": [
      "df4 shape:           Unnamed: 0       id name        sex         id_card_num       dob  \\\n",
      "0                 0        1  陶凌霞  女(Female)  310110198305082041  19830508   \n",
      "1                 1        2  吕清逸    男(male)  310102195310292031  19531029   \n",
      "2                 2        3  姚茂华    男(male)  310103192904081218  19290408   \n",
      "3                 3        4  王海玲  女(Female)  310108197401092446  19740109   \n",
      "4                 4        5  杨敷敦    男(male)  310102194212200039  19421220   \n",
      "...             ...      ...  ...        ...                 ...       ...   \n",
      "1956726     1956726  1957235  衣艳荣    男(male)  11022119780918831X  19780918   \n",
      "1956727     1956727  1957236   周明    男(male)  310101196602235213  19660223   \n",
      "1956728     1956728  1957237  魏新辉    男(male)  35030319930228101X  19930228   \n",
      "1956729     1956729  1957238  沈佳斌    男(male)  310102199202241630  19920224   \n",
      "1956730     1956730  1957239  周玉梅  女(Female)  620423198302106520  19830210   \n",
      "\n",
      "         ageCheck  \n",
      "0            True  \n",
      "1            True  \n",
      "2            True  \n",
      "3            True  \n",
      "4            True  \n",
      "...           ...  \n",
      "1956726      True  \n",
      "1956727      True  \n",
      "1956728      True  \n",
      "1956729      True  \n",
      "1956730      True  \n",
      "\n",
      "[1917684 rows x 7 columns]\n",
      "<class 'pandas.core.frame.DataFrame'>\n",
      "Int64Index: 1917684 entries, 0 to 1956730\n",
      "Data columns (total 8 columns):\n",
      " #   Column       Dtype \n",
      "---  ------       ----- \n",
      " 0   Unnamed: 0   int64 \n",
      " 1   id           int64 \n",
      " 2   name         object\n",
      " 3   sex          object\n",
      " 4   id_card_num  object\n",
      " 5   dob          object\n",
      " 6   BirthYear    int32 \n",
      " 7   age          int32 \n",
      "dtypes: int32(2), int64(2), object(4)\n",
      "memory usage: 117.0+ MB\n",
      "None\n",
      "df4 shape:           Unnamed: 0       id name        sex         id_card_num       dob  \\\n",
      "0                 0        1  陶凌霞  女(Female)  310110198305082041  19830508   \n",
      "1                 1        2  吕清逸    男(male)  310102195310292031  19531029   \n",
      "2                 2        3  姚茂华    男(male)  310103192904081218  19290408   \n",
      "3                 3        4  王海玲  女(Female)  310108197401092446  19740109   \n",
      "4                 4        5  杨敷敦    男(male)  310102194212200039  19421220   \n",
      "...             ...      ...  ...        ...                 ...       ...   \n",
      "1956726     1956726  1957235  衣艳荣    男(male)  11022119780918831X  19780918   \n",
      "1956727     1956727  1957236   周明    男(male)  310101196602235213  19660223   \n",
      "1956728     1956728  1957237  魏新辉    男(male)  35030319930228101X  19930228   \n",
      "1956729     1956729  1957238  沈佳斌    男(male)  310102199202241630  19920224   \n",
      "1956730     1956730  1957239  周玉梅  女(Female)  620423198302106520  19830210   \n",
      "\n",
      "         BirthYear  age  \n",
      "0             1983   39  \n",
      "1             1953   69  \n",
      "2             1929   93  \n",
      "3             1974   48  \n",
      "4             1942   80  \n",
      "...            ...  ...  \n",
      "1956726       1978   44  \n",
      "1956727       1966   56  \n",
      "1956728       1993   29  \n",
      "1956729       1992   30  \n",
      "1956730       1983   39  \n",
      "\n",
      "[1917684 rows x 8 columns]\n"
     ]
    }
   ],
   "source": [
    "# drop the rows that \n",
    "df4 = df3.drop(df3[df3['ageCheck']==False].index)\n",
    "print('df4 shape: ', df4)\n",
    "if set('age').issubset(df4.columns):\n",
    "    df4.drop(['age'],axis=1,inplace=True)\n",
    "    \n",
    "df4['BirthYear'] = df4['dob'].str.slice(0,4).astype(int)\n",
    "df4['age'] = datetime.datetime.now().year - df4['BirthYear']\n",
    "df4.drop(columns='ageCheck',inplace=True)\n",
    "print(df4.info())\n",
    "print('df4 shape: ', df4)"
   ]
  },
  {
   "cell_type": "code",
   "execution_count": 12,
   "id": "3dbcc856",
   "metadata": {},
   "outputs": [
    {
     "data": {
      "text/plain": [
       "count    1.917684e+06\n",
       "mean     5.769213e+01\n",
       "std      6.106783e+01\n",
       "min     -7.961000e+03\n",
       "25%      4.100000e+01\n",
       "50%      5.900000e+01\n",
       "75%      7.200000e+01\n",
       "max      1.826000e+03\n",
       "Name: age, dtype: float64"
      ]
     },
     "execution_count": 12,
     "metadata": {},
     "output_type": "execute_result"
    }
   ],
   "source": [
    "df4['age'].describe()"
   ]
  },
  {
   "cell_type": "code",
   "execution_count": 13,
   "id": "43a9d307",
   "metadata": {
    "scrolled": true
   },
   "outputs": [
    {
     "data": {
      "text/html": [
       "<div>\n",
       "<style scoped>\n",
       "    .dataframe tbody tr th:only-of-type {\n",
       "        vertical-align: middle;\n",
       "    }\n",
       "\n",
       "    .dataframe tbody tr th {\n",
       "        vertical-align: top;\n",
       "    }\n",
       "\n",
       "    .dataframe thead th {\n",
       "        text-align: right;\n",
       "    }\n",
       "</style>\n",
       "<table border=\"1\" class=\"dataframe\">\n",
       "  <thead>\n",
       "    <tr style=\"text-align: right;\">\n",
       "      <th></th>\n",
       "      <th>Unnamed: 0</th>\n",
       "      <th>id</th>\n",
       "      <th>name</th>\n",
       "      <th>sex</th>\n",
       "      <th>id_card_num</th>\n",
       "      <th>dob</th>\n",
       "      <th>BirthYear</th>\n",
       "      <th>age</th>\n",
       "    </tr>\n",
       "  </thead>\n",
       "  <tbody>\n",
       "    <tr>\n",
       "      <th>0</th>\n",
       "      <td>0</td>\n",
       "      <td>1</td>\n",
       "      <td>陶凌霞</td>\n",
       "      <td>女(Female)</td>\n",
       "      <td>310110198305082041</td>\n",
       "      <td>19830508</td>\n",
       "      <td>1983</td>\n",
       "      <td>39</td>\n",
       "    </tr>\n",
       "    <tr>\n",
       "      <th>1</th>\n",
       "      <td>1</td>\n",
       "      <td>2</td>\n",
       "      <td>吕清逸</td>\n",
       "      <td>男(male)</td>\n",
       "      <td>310102195310292031</td>\n",
       "      <td>19531029</td>\n",
       "      <td>1953</td>\n",
       "      <td>69</td>\n",
       "    </tr>\n",
       "    <tr>\n",
       "      <th>2</th>\n",
       "      <td>2</td>\n",
       "      <td>3</td>\n",
       "      <td>姚茂华</td>\n",
       "      <td>男(male)</td>\n",
       "      <td>310103192904081218</td>\n",
       "      <td>19290408</td>\n",
       "      <td>1929</td>\n",
       "      <td>93</td>\n",
       "    </tr>\n",
       "    <tr>\n",
       "      <th>3</th>\n",
       "      <td>3</td>\n",
       "      <td>4</td>\n",
       "      <td>王海玲</td>\n",
       "      <td>女(Female)</td>\n",
       "      <td>310108197401092446</td>\n",
       "      <td>19740109</td>\n",
       "      <td>1974</td>\n",
       "      <td>48</td>\n",
       "    </tr>\n",
       "    <tr>\n",
       "      <th>4</th>\n",
       "      <td>4</td>\n",
       "      <td>5</td>\n",
       "      <td>杨敷敦</td>\n",
       "      <td>男(male)</td>\n",
       "      <td>310102194212200039</td>\n",
       "      <td>19421220</td>\n",
       "      <td>1942</td>\n",
       "      <td>80</td>\n",
       "    </tr>\n",
       "    <tr>\n",
       "      <th>...</th>\n",
       "      <td>...</td>\n",
       "      <td>...</td>\n",
       "      <td>...</td>\n",
       "      <td>...</td>\n",
       "      <td>...</td>\n",
       "      <td>...</td>\n",
       "      <td>...</td>\n",
       "      <td>...</td>\n",
       "    </tr>\n",
       "    <tr>\n",
       "      <th>1956726</th>\n",
       "      <td>1956726</td>\n",
       "      <td>1957235</td>\n",
       "      <td>衣艳荣</td>\n",
       "      <td>男(male)</td>\n",
       "      <td>11022119780918831X</td>\n",
       "      <td>19780918</td>\n",
       "      <td>1978</td>\n",
       "      <td>44</td>\n",
       "    </tr>\n",
       "    <tr>\n",
       "      <th>1956727</th>\n",
       "      <td>1956727</td>\n",
       "      <td>1957236</td>\n",
       "      <td>周明</td>\n",
       "      <td>男(male)</td>\n",
       "      <td>310101196602235213</td>\n",
       "      <td>19660223</td>\n",
       "      <td>1966</td>\n",
       "      <td>56</td>\n",
       "    </tr>\n",
       "    <tr>\n",
       "      <th>1956728</th>\n",
       "      <td>1956728</td>\n",
       "      <td>1957237</td>\n",
       "      <td>魏新辉</td>\n",
       "      <td>男(male)</td>\n",
       "      <td>35030319930228101X</td>\n",
       "      <td>19930228</td>\n",
       "      <td>1993</td>\n",
       "      <td>29</td>\n",
       "    </tr>\n",
       "    <tr>\n",
       "      <th>1956729</th>\n",
       "      <td>1956729</td>\n",
       "      <td>1957238</td>\n",
       "      <td>沈佳斌</td>\n",
       "      <td>男(male)</td>\n",
       "      <td>310102199202241630</td>\n",
       "      <td>19920224</td>\n",
       "      <td>1992</td>\n",
       "      <td>30</td>\n",
       "    </tr>\n",
       "    <tr>\n",
       "      <th>1956730</th>\n",
       "      <td>1956730</td>\n",
       "      <td>1957239</td>\n",
       "      <td>周玉梅</td>\n",
       "      <td>女(Female)</td>\n",
       "      <td>620423198302106520</td>\n",
       "      <td>19830210</td>\n",
       "      <td>1983</td>\n",
       "      <td>39</td>\n",
       "    </tr>\n",
       "  </tbody>\n",
       "</table>\n",
       "<p>1917315 rows × 8 columns</p>\n",
       "</div>"
      ],
      "text/plain": [
       "         Unnamed: 0       id name        sex         id_card_num       dob  \\\n",
       "0                 0        1  陶凌霞  女(Female)  310110198305082041  19830508   \n",
       "1                 1        2  吕清逸    男(male)  310102195310292031  19531029   \n",
       "2                 2        3  姚茂华    男(male)  310103192904081218  19290408   \n",
       "3                 3        4  王海玲  女(Female)  310108197401092446  19740109   \n",
       "4                 4        5  杨敷敦    男(male)  310102194212200039  19421220   \n",
       "...             ...      ...  ...        ...                 ...       ...   \n",
       "1956726     1956726  1957235  衣艳荣    男(male)  11022119780918831X  19780918   \n",
       "1956727     1956727  1957236   周明    男(male)  310101196602235213  19660223   \n",
       "1956728     1956728  1957237  魏新辉    男(male)  35030319930228101X  19930228   \n",
       "1956729     1956729  1957238  沈佳斌    男(male)  310102199202241630  19920224   \n",
       "1956730     1956730  1957239  周玉梅  女(Female)  620423198302106520  19830210   \n",
       "\n",
       "         BirthYear  age  \n",
       "0             1983   39  \n",
       "1             1953   69  \n",
       "2             1929   93  \n",
       "3             1974   48  \n",
       "4             1942   80  \n",
       "...            ...  ...  \n",
       "1956726       1978   44  \n",
       "1956727       1966   56  \n",
       "1956728       1993   29  \n",
       "1956729       1992   30  \n",
       "1956730       1983   39  \n",
       "\n",
       "[1917315 rows x 8 columns]"
      ]
     },
     "execution_count": 13,
     "metadata": {},
     "output_type": "execute_result"
    }
   ],
   "source": [
    "# delete the age not make sense (<18 or >120)\n",
    "df4 = df4[(df4['age']<=110) & (df4['age']>=18)]\n",
    "df4"
   ]
  },
  {
   "cell_type": "code",
   "execution_count": 14,
   "id": "47d0d150",
   "metadata": {},
   "outputs": [
    {
     "data": {
      "text/plain": [
       "count    1.917315e+06\n",
       "mean     5.815376e+01\n",
       "std      1.847289e+01\n",
       "min      2.300000e+01\n",
       "25%      4.100000e+01\n",
       "50%      5.900000e+01\n",
       "75%      7.200000e+01\n",
       "max      1.100000e+02\n",
       "Name: age, dtype: float64"
      ]
     },
     "execution_count": 14,
     "metadata": {},
     "output_type": "execute_result"
    }
   ],
   "source": [
    "df4['age'].describe()"
   ]
  },
  {
   "cell_type": "markdown",
   "id": "7887c4ac",
   "metadata": {},
   "source": [
    "## 3.2 plot the \"Date of Birth(Year)\""
   ]
  },
  {
   "cell_type": "code",
   "execution_count": 15,
   "id": "cb4f679c",
   "metadata": {
    "scrolled": true
   },
   "outputs": [
    {
     "data": {
      "text/plain": [
       "<Figure size 432x288 with 0 Axes>"
      ]
     },
     "metadata": {},
     "output_type": "display_data"
    },
    {
     "data": {
      "image/png": "[encoded data removed]",
      "text/plain": [
       "<Figure size 864x576 with 1 Axes>"
      ]
     },
     "metadata": {
      "needs_background": "light"
     },
     "output_type": "display_data"
    }
   ],
   "source": [
    "# customer the plot\n",
    "# colors = [\"#FF0B04\", \"#4374B3\"]\n",
    "plt.clf()\n",
    "sns.set_palette(sns.color_palette('rocket'))\n",
    "\n",
    "#plt.figure(figsize=(12,8))\n",
    "g1 = sns.catplot(x='BirthYear', data = df4[['BirthYear']], kind ='count', height=8, aspect=1.5)\n",
    "g1.set_xticklabels(step=2,rotation=40)\n",
    "plt.show()"
   ]
  },
  {
   "cell_type": "markdown",
   "id": "fadf48cf",
   "metadata": {},
   "source": [
    "# 4 Age & Gender Distribution\n",
    "## 4.1 clean data: `sex` column"
   ]
  },
  {
   "cell_type": "code",
   "execution_count": 16,
   "id": "68dd57d7",
   "metadata": {},
   "outputs": [
    {
     "data": {
      "text/plain": [
       "Unnamed: 0     0\n",
       "id             0\n",
       "name           0\n",
       "sex            0\n",
       "id_card_num    0\n",
       "dob            0\n",
       "BirthYear      0\n",
       "age            0\n",
       "dtype: int64"
      ]
     },
     "execution_count": 16,
     "metadata": {},
     "output_type": "execute_result"
    }
   ],
   "source": [
    "# Check if there are NaN data in sex column\n",
    "df4.isna().sum()"
   ]
  },
  {
   "cell_type": "code",
   "execution_count": 17,
   "id": "d2ba59f9",
   "metadata": {},
   "outputs": [
    {
     "name": "stdout",
     "output_type": "stream",
     "text": [
      "<class 'pandas.core.frame.DataFrame'>\n"
     ]
    },
    {
     "data": {
      "text/html": [
       "<div>\n",
       "<style scoped>\n",
       "    .dataframe tbody tr th:only-of-type {\n",
       "        vertical-align: middle;\n",
       "    }\n",
       "\n",
       "    .dataframe tbody tr th {\n",
       "        vertical-align: top;\n",
       "    }\n",
       "\n",
       "    .dataframe thead th {\n",
       "        text-align: right;\n",
       "    }\n",
       "</style>\n",
       "<table border=\"1\" class=\"dataframe\">\n",
       "  <thead>\n",
       "    <tr style=\"text-align: right;\">\n",
       "      <th></th>\n",
       "      <th>age</th>\n",
       "      <th>sex</th>\n",
       "      <th>0</th>\n",
       "    </tr>\n",
       "  </thead>\n",
       "  <tbody>\n",
       "    <tr>\n",
       "      <th>0</th>\n",
       "      <td>23</td>\n",
       "      <td>男(male)</td>\n",
       "      <td>1</td>\n",
       "    </tr>\n",
       "    <tr>\n",
       "      <th>1</th>\n",
       "      <td>24</td>\n",
       "      <td>女(Female)</td>\n",
       "      <td>1</td>\n",
       "    </tr>\n",
       "    <tr>\n",
       "      <th>2</th>\n",
       "      <td>25</td>\n",
       "      <td>女(Female)</td>\n",
       "      <td>40</td>\n",
       "    </tr>\n",
       "    <tr>\n",
       "      <th>3</th>\n",
       "      <td>25</td>\n",
       "      <td>男(male)</td>\n",
       "      <td>27</td>\n",
       "    </tr>\n",
       "    <tr>\n",
       "      <th>4</th>\n",
       "      <td>26</td>\n",
       "      <td>女(Female)</td>\n",
       "      <td>620</td>\n",
       "    </tr>\n",
       "    <tr>\n",
       "      <th>...</th>\n",
       "      <td>...</td>\n",
       "      <td>...</td>\n",
       "      <td>...</td>\n",
       "    </tr>\n",
       "    <tr>\n",
       "      <th>169</th>\n",
       "      <td>108</td>\n",
       "      <td>女(Female)</td>\n",
       "      <td>11</td>\n",
       "    </tr>\n",
       "    <tr>\n",
       "      <th>170</th>\n",
       "      <td>109</td>\n",
       "      <td>男(male)</td>\n",
       "      <td>10</td>\n",
       "    </tr>\n",
       "    <tr>\n",
       "      <th>171</th>\n",
       "      <td>109</td>\n",
       "      <td>女(Female)</td>\n",
       "      <td>5</td>\n",
       "    </tr>\n",
       "    <tr>\n",
       "      <th>172</th>\n",
       "      <td>110</td>\n",
       "      <td>男(male)</td>\n",
       "      <td>7</td>\n",
       "    </tr>\n",
       "    <tr>\n",
       "      <th>173</th>\n",
       "      <td>110</td>\n",
       "      <td>女(Female)</td>\n",
       "      <td>2</td>\n",
       "    </tr>\n",
       "  </tbody>\n",
       "</table>\n",
       "<p>174 rows × 3 columns</p>\n",
       "</div>"
      ],
      "text/plain": [
       "     age        sex    0\n",
       "0     23    男(male)    1\n",
       "1     24  女(Female)    1\n",
       "2     25  女(Female)   40\n",
       "3     25    男(male)   27\n",
       "4     26  女(Female)  620\n",
       "..   ...        ...  ...\n",
       "169  108  女(Female)   11\n",
       "170  109    男(male)   10\n",
       "171  109  女(Female)    5\n",
       "172  110    男(male)    7\n",
       "173  110  女(Female)    2\n",
       "\n",
       "[174 rows x 3 columns]"
      ]
     },
     "execution_count": 17,
     "metadata": {},
     "output_type": "execute_result"
    }
   ],
   "source": [
    "# Check the sex value kind\n",
    "df4['sex'].value_counts()\n",
    "df5 = df4[['sex','age']].groupby('age').value_counts()\n",
    "df5 = df5.reset_index()\n",
    "print(type(df5))\n",
    "df5"
   ]
  },
  {
   "cell_type": "code",
   "execution_count": 18,
   "id": "212c3924",
   "metadata": {},
   "outputs": [
    {
     "data": {
      "text/plain": [
       "Index(['age', 'sex', 0], dtype='object')"
      ]
     },
     "execution_count": 18,
     "metadata": {},
     "output_type": "execute_result"
    }
   ],
   "source": [
    "df5.columns"
   ]
  },
  {
   "cell_type": "code",
   "execution_count": 19,
   "id": "47598a07",
   "metadata": {},
   "outputs": [
    {
     "data": {
      "text/html": [
       "<div>\n",
       "<style scoped>\n",
       "    .dataframe tbody tr th:only-of-type {\n",
       "        vertical-align: middle;\n",
       "    }\n",
       "\n",
       "    .dataframe tbody tr th {\n",
       "        vertical-align: top;\n",
       "    }\n",
       "\n",
       "    .dataframe thead th {\n",
       "        text-align: right;\n",
       "    }\n",
       "</style>\n",
       "<table border=\"1\" class=\"dataframe\">\n",
       "  <thead>\n",
       "    <tr style=\"text-align: right;\">\n",
       "      <th></th>\n",
       "      <th>age</th>\n",
       "      <th>sex</th>\n",
       "      <th>number</th>\n",
       "    </tr>\n",
       "  </thead>\n",
       "  <tbody>\n",
       "    <tr>\n",
       "      <th>0</th>\n",
       "      <td>23</td>\n",
       "      <td>男(male)</td>\n",
       "      <td>1</td>\n",
       "    </tr>\n",
       "    <tr>\n",
       "      <th>1</th>\n",
       "      <td>24</td>\n",
       "      <td>女(Female)</td>\n",
       "      <td>1</td>\n",
       "    </tr>\n",
       "    <tr>\n",
       "      <th>2</th>\n",
       "      <td>25</td>\n",
       "      <td>女(Female)</td>\n",
       "      <td>40</td>\n",
       "    </tr>\n",
       "    <tr>\n",
       "      <th>3</th>\n",
       "      <td>25</td>\n",
       "      <td>男(male)</td>\n",
       "      <td>27</td>\n",
       "    </tr>\n",
       "    <tr>\n",
       "      <th>4</th>\n",
       "      <td>26</td>\n",
       "      <td>女(Female)</td>\n",
       "      <td>620</td>\n",
       "    </tr>\n",
       "    <tr>\n",
       "      <th>...</th>\n",
       "      <td>...</td>\n",
       "      <td>...</td>\n",
       "      <td>...</td>\n",
       "    </tr>\n",
       "    <tr>\n",
       "      <th>169</th>\n",
       "      <td>108</td>\n",
       "      <td>女(Female)</td>\n",
       "      <td>11</td>\n",
       "    </tr>\n",
       "    <tr>\n",
       "      <th>170</th>\n",
       "      <td>109</td>\n",
       "      <td>男(male)</td>\n",
       "      <td>10</td>\n",
       "    </tr>\n",
       "    <tr>\n",
       "      <th>171</th>\n",
       "      <td>109</td>\n",
       "      <td>女(Female)</td>\n",
       "      <td>5</td>\n",
       "    </tr>\n",
       "    <tr>\n",
       "      <th>172</th>\n",
       "      <td>110</td>\n",
       "      <td>男(male)</td>\n",
       "      <td>7</td>\n",
       "    </tr>\n",
       "    <tr>\n",
       "      <th>173</th>\n",
       "      <td>110</td>\n",
       "      <td>女(Female)</td>\n",
       "      <td>2</td>\n",
       "    </tr>\n",
       "  </tbody>\n",
       "</table>\n",
       "<p>174 rows × 3 columns</p>\n",
       "</div>"
      ],
      "text/plain": [
       "     age        sex  number\n",
       "0     23    男(male)       1\n",
       "1     24  女(Female)       1\n",
       "2     25  女(Female)      40\n",
       "3     25    男(male)      27\n",
       "4     26  女(Female)     620\n",
       "..   ...        ...     ...\n",
       "169  108  女(Female)      11\n",
       "170  109    男(male)      10\n",
       "171  109  女(Female)       5\n",
       "172  110    男(male)       7\n",
       "173  110  女(Female)       2\n",
       "\n",
       "[174 rows x 3 columns]"
      ]
     },
     "execution_count": 19,
     "metadata": {},
     "output_type": "execute_result"
    }
   ],
   "source": [
    "df5.rename(columns={0:'number'},inplace=True)\n",
    "                    \n",
    "# Another way to change column name\n",
    "# df5['number']=df5[0]\n",
    "# df5.drop(columns=[0],inplace=True)\n",
    "df5"
   ]
  },
  {
   "cell_type": "code",
   "execution_count": 20,
   "id": "c693b582",
   "metadata": {},
   "outputs": [
    {
     "data": {
      "text/plain": [
       "男(male)      1204086\n",
       "女(Female)     713229\n",
       "Name: sex, dtype: int64"
      ]
     },
     "execution_count": 20,
     "metadata": {},
     "output_type": "execute_result"
    }
   ],
   "source": [
    "df4['sex'].value_counts()"
   ]
  },
  {
   "cell_type": "code",
   "execution_count": 21,
   "id": "cabb5894",
   "metadata": {},
   "outputs": [
    {
     "data": {
      "text/plain": [
       "1204086"
      ]
     },
     "execution_count": 21,
     "metadata": {},
     "output_type": "execute_result"
    }
   ],
   "source": [
    "df4['sex'].value_counts()['男(male)']"
   ]
  },
  {
   "cell_type": "code",
   "execution_count": 22,
   "id": "2dc493a5",
   "metadata": {},
   "outputs": [
    {
     "data": {
      "text/plain": [
       "Index(['女(Female)', '男(male)'], dtype='object')"
      ]
     },
     "execution_count": 22,
     "metadata": {},
     "output_type": "execute_result"
    }
   ],
   "source": [
    "df4[df4['age']==26]['sex'].value_counts().index"
   ]
  },
  {
   "cell_type": "markdown",
   "id": "80874347",
   "metadata": {},
   "source": [
    "## 4.2 plot the age and gender"
   ]
  },
  {
   "cell_type": "code",
   "execution_count": 23,
   "id": "c60a1ff3",
   "metadata": {},
   "outputs": [],
   "source": [
    "plt.rcParams['font.sans-serif']=['SimHei']"
   ]
  },
  {
   "cell_type": "code",
   "execution_count": 24,
   "id": "025dd508",
   "metadata": {},
   "outputs": [
    {
     "data": {
      "image/png": "[encoded data removed]",
      "text/plain": [
       "<Figure size 949.875x576 with 1 Axes>"
      ]
     },
     "metadata": {
      "needs_background": "light"
     },
     "output_type": "display_data"
    }
   ],
   "source": [
    "# customer the plot\n",
    "colors = [\"#4374B3\",\"#FF0B04\"]\n",
    "#sns.set_palette(sns.color_palette('RdBu'))\n",
    "sns.set_palette(sns.color_palette(colors))\n",
    "\n",
    "g2 = sns.catplot(data=df5,kind='bar',x='age',y='number',hue='sex',ci='sd',alpha=0.6,height=8, aspect=1.5)\n",
    "g2.set_xticklabels(step=2,rotation=40)\n",
    "# g2.legend()\n",
    "plt.show()"
   ]
  },
  {
   "cell_type": "code",
   "execution_count": 25,
   "id": "24593c87",
   "metadata": {},
   "outputs": [
    {
     "data": {
      "image/png": "[encoded data removed]",
      "text/plain": [
       "<Figure size 432x288 with 1 Axes>"
      ]
     },
     "metadata": {},
     "output_type": "display_data"
    }
   ],
   "source": [
    "# male vs female\n",
    "g3 = plt.pie(df4['sex'].value_counts(),\n",
    "             labels=df4['sex'].value_counts().index,autopct='%.1f%%',  #Display the percentage\n",
    "             startangle=90,explode=[0,0.01], colors=[\"#4374B3\",\"#FF0B04\"],radius = 2)\n",
    "plt.show()"
   ]
  },
  {
   "cell_type": "code",
   "execution_count": 26,
   "id": "bcff8891",
   "metadata": {},
   "outputs": [
    {
     "data": {
      "image/png": "[encoded data removed]",
      "text/plain": [
       "<Figure size 432x288 with 1 Axes>"
      ]
     },
     "metadata": {},
     "output_type": "display_data"
    }
   ],
   "source": [
    "# male vs female age is <= 40 \n",
    "df4_2=df4[df4['age']<=40]['sex'].value_counts()\n",
    "g3 = plt.pie([df4_2['男(male)'],df4_2['女(Female)']],\n",
    "             labels=['男(male)','女(Female)'], autopct='%.1f%%',  #Display the percentage\n",
    "             startangle=90,explode=[0,0.01], colors=[\"#4374B3\",\"#FF0B04\"],radius = 2)\n",
    "plt.show()"
   ]
  },
  {
   "cell_type": "code",
   "execution_count": 27,
   "id": "efb234ae",
   "metadata": {
    "scrolled": true
   },
   "outputs": [],
   "source": [
    "male_total = df4['sex'].value_counts()['男(male)']\n",
    "female_total = df4['sex'].value_counts()['女(Female)']\n",
    "ccp_total = male_total + female_total"
   ]
  },
  {
   "cell_type": "code",
   "execution_count": 28,
   "id": "a05245a0",
   "metadata": {},
   "outputs": [
    {
     "data": {
      "text/html": [
       "<div>\n",
       "<style scoped>\n",
       "    .dataframe tbody tr th:only-of-type {\n",
       "        vertical-align: middle;\n",
       "    }\n",
       "\n",
       "    .dataframe tbody tr th {\n",
       "        vertical-align: top;\n",
       "    }\n",
       "\n",
       "    .dataframe thead th {\n",
       "        text-align: right;\n",
       "    }\n",
       "</style>\n",
       "<table border=\"1\" class=\"dataframe\">\n",
       "  <thead>\n",
       "    <tr style=\"text-align: right;\">\n",
       "      <th></th>\n",
       "      <th>age</th>\n",
       "      <th>sex</th>\n",
       "      <th>number</th>\n",
       "      <th>band</th>\n",
       "    </tr>\n",
       "  </thead>\n",
       "  <tbody>\n",
       "    <tr>\n",
       "      <th>0</th>\n",
       "      <td>23</td>\n",
       "      <td>男(male)</td>\n",
       "      <td>1</td>\n",
       "      <td>(20, 25]</td>\n",
       "    </tr>\n",
       "    <tr>\n",
       "      <th>1</th>\n",
       "      <td>24</td>\n",
       "      <td>女(Female)</td>\n",
       "      <td>1</td>\n",
       "      <td>(20, 25]</td>\n",
       "    </tr>\n",
       "    <tr>\n",
       "      <th>2</th>\n",
       "      <td>25</td>\n",
       "      <td>女(Female)</td>\n",
       "      <td>40</td>\n",
       "      <td>(20, 25]</td>\n",
       "    </tr>\n",
       "    <tr>\n",
       "      <th>3</th>\n",
       "      <td>25</td>\n",
       "      <td>男(male)</td>\n",
       "      <td>27</td>\n",
       "      <td>(20, 25]</td>\n",
       "    </tr>\n",
       "    <tr>\n",
       "      <th>4</th>\n",
       "      <td>26</td>\n",
       "      <td>女(Female)</td>\n",
       "      <td>620</td>\n",
       "      <td>(25, 30]</td>\n",
       "    </tr>\n",
       "    <tr>\n",
       "      <th>...</th>\n",
       "      <td>...</td>\n",
       "      <td>...</td>\n",
       "      <td>...</td>\n",
       "      <td>...</td>\n",
       "    </tr>\n",
       "    <tr>\n",
       "      <th>169</th>\n",
       "      <td>108</td>\n",
       "      <td>女(Female)</td>\n",
       "      <td>11</td>\n",
       "      <td>(105, 110]</td>\n",
       "    </tr>\n",
       "    <tr>\n",
       "      <th>170</th>\n",
       "      <td>109</td>\n",
       "      <td>男(male)</td>\n",
       "      <td>10</td>\n",
       "      <td>(105, 110]</td>\n",
       "    </tr>\n",
       "    <tr>\n",
       "      <th>171</th>\n",
       "      <td>109</td>\n",
       "      <td>女(Female)</td>\n",
       "      <td>5</td>\n",
       "      <td>(105, 110]</td>\n",
       "    </tr>\n",
       "    <tr>\n",
       "      <th>172</th>\n",
       "      <td>110</td>\n",
       "      <td>男(male)</td>\n",
       "      <td>7</td>\n",
       "      <td>(105, 110]</td>\n",
       "    </tr>\n",
       "    <tr>\n",
       "      <th>173</th>\n",
       "      <td>110</td>\n",
       "      <td>女(Female)</td>\n",
       "      <td>2</td>\n",
       "      <td>(105, 110]</td>\n",
       "    </tr>\n",
       "  </tbody>\n",
       "</table>\n",
       "<p>174 rows × 4 columns</p>\n",
       "</div>"
      ],
      "text/plain": [
       "     age        sex  number        band\n",
       "0     23    男(male)       1    (20, 25]\n",
       "1     24  女(Female)       1    (20, 25]\n",
       "2     25  女(Female)      40    (20, 25]\n",
       "3     25    男(male)      27    (20, 25]\n",
       "4     26  女(Female)     620    (25, 30]\n",
       "..   ...        ...     ...         ...\n",
       "169  108  女(Female)      11  (105, 110]\n",
       "170  109    男(male)      10  (105, 110]\n",
       "171  109  女(Female)       5  (105, 110]\n",
       "172  110    男(male)       7  (105, 110]\n",
       "173  110  女(Female)       2  (105, 110]\n",
       "\n",
       "[174 rows x 4 columns]"
      ]
     },
     "execution_count": 28,
     "metadata": {},
     "output_type": "execute_result"
    }
   ],
   "source": [
    "age_band=[20,25,30,35,40,45,50,55,60,65,70,75,80,85,90,95,100,105,110]\n",
    "df5['band']=pd.cut(df5['age'],bins=age_band)\n",
    "df5"
   ]
  },
  {
   "cell_type": "code",
   "execution_count": 29,
   "id": "6282f3af",
   "metadata": {},
   "outputs": [
    {
     "name": "stdout",
     "output_type": "stream",
     "text": [
      "<class 'pandas.core.arrays.categorical.Categorical'>\n",
      "[(20, 25], (25, 30], (30, 35], (35, 40], (40, 45], ..., (85, 90], (90, 95], (95, 100], (100, 105], (105, 110]]\n",
      "Length: 18\n",
      "Categories (18, interval[int64, right]): [(20, 25] < (25, 30] < (30, 35] < (35, 40] ... (90, 95] < (95, 100] < (100, 105] < (105, 110]] \n",
      "\n",
      "[(105, 110], (100, 105], (95, 100], (90, 95], (85, 90], ..., (40, 45], (35, 40], (30, 35], (25, 30], (20, 25]]\n",
      "Length: 18\n",
      "Categories (18, interval[int64, right]): [(20, 25] < (25, 30] < (30, 35] < (35, 40] ... (90, 95] < (95, 100] < (100, 105] < (105, 110]]\n"
     ]
    }
   ],
   "source": [
    "orders = df5['band'].unique()\n",
    "print(type(orders))\n",
    "print(orders,'\\n')\n",
    "print(orders[::-1])"
   ]
  },
  {
   "cell_type": "code",
   "execution_count": 30,
   "id": "9c7b4dcc",
   "metadata": {
    "scrolled": true
   },
   "outputs": [
    {
     "name": "stdout",
     "output_type": "stream",
     "text": [
      "       band  number  preportion\n",
      "0  (20, 25]      41    0.000057\n",
      "1  (25, 30]   33798    0.047387\n",
      "2  (30, 35]  105449    0.147847\n",
      "3  (35, 40]  103157    0.144634\n",
      "4  (40, 45]   75334    0.105624 \n",
      "\n",
      "       band  number  preportion\n",
      "0  (20, 25]      28    0.000023\n",
      "1  (25, 30]   23162    0.019236\n",
      "2  (30, 35]   92376    0.076719\n",
      "3  (35, 40]  105862    0.087919\n",
      "4  (40, 45]   93182    0.077388\n"
     ]
    }
   ],
   "source": [
    "# get the female band with number and percentage\n",
    "df_band_female=df5[df5['sex']=='女(Female)'].groupby('band',as_index=False).agg({'number':'sum'})\n",
    "df_band_female['preportion'] = df_band_female['number'] /df_band_female['number'].sum()\n",
    "print(df_band_female.head(),'\\n')\n",
    "\n",
    "# get the male band with number and percentage\n",
    "df_band_male=df5[df5['sex']=='男(male)'].groupby('band',as_index=False).agg({'number':'sum'})\n",
    "df_band_male['preportion'] = df_band_male['number'] /df_band_male['number'].sum()\n",
    "print(df_band_male.head())"
   ]
  },
  {
   "cell_type": "code",
   "execution_count": 31,
   "id": "49cbfa1a",
   "metadata": {},
   "outputs": [
    {
     "name": "stdout",
     "output_type": "stream",
     "text": [
      "       band  number  preportion percentage\n",
      "0  (20, 25]      41    0.000057      0.01%\n",
      "1  (25, 30]   33798    0.047387      4.74%\n",
      "2  (30, 35]  105449    0.147847     14.78%\n",
      "3  (35, 40]  103157    0.144634     14.46%\n",
      "4  (40, 45]   75334    0.105624     10.56% \n",
      "\n",
      "       band  number  preportion percentage\n",
      "0  (20, 25]      28    0.000023      0.00%\n",
      "1  (25, 30]   23162    0.019236      1.92%\n",
      "2  (30, 35]   92376    0.076719      7.67%\n",
      "3  (35, 40]  105862    0.087919      8.79%\n",
      "4  (40, 45]   93182    0.077388      7.74%\n"
     ]
    }
   ],
   "source": [
    "df_band_female['percentage'] = df_band_female['preportion'].apply(lambda x: format(x,'.2%'))\n",
    "print(df_band_female.head(),'\\n')\n",
    "\n",
    "df_band_male['percentage']=df_band_male['preportion'].apply(lambda x: format(x,'.2%'))\n",
    "print(df_band_male.head())"
   ]
  },
  {
   "cell_type": "code",
   "execution_count": 32,
   "id": "b3f12225",
   "metadata": {},
   "outputs": [],
   "source": [
    "from matplotlib import ticker"
   ]
  },
  {
   "cell_type": "code",
   "execution_count": 33,
   "id": "9638d50d",
   "metadata": {},
   "outputs": [
    {
     "data": {
      "text/plain": [
       "<Figure size 432x288 with 0 Axes>"
      ]
     },
     "metadata": {},
     "output_type": "display_data"
    },
    {
     "data": {
      "image/png": "[encoded data removed]",
      "text/plain": [
       "<Figure size 1080x720 with 1 Axes>"
      ]
     },
     "metadata": {},
     "output_type": "display_data"
    }
   ],
   "source": [
    "plt.clf()\n",
    "# Set the figure style to \"dark\"\n",
    "sns.set_style(\"darkgrid\")\n",
    "\n",
    "plt.figure(figsize=(15,10))\n",
    "# if no clause below, there'll be warning\"Glyph 8722 (\\N{MINUS SIGN}) missing from current font.\"\n",
    "plt.rc('axes', unicode_minus=False) \n",
    "\n",
    "#sns.set_palette(color_female)\n",
    "g4 = sns.barplot(data=df_band_female, y='band', \n",
    "                 x=-df_band_female['preportion'], \n",
    "                 order = df_band_female['band'].unique()[::-1],\n",
    "                 palette=sns.color_palette(\"Reds_r\",18))\n",
    "\n",
    "g4 = sns.barplot(data=df_band_male, y='band', \n",
    "                 x=df_band_male['percentage'].str.strip('%').astype(float)/100, \n",
    "                 order = df_band_male['band'].unique()[::-1],\n",
    "                 palette=sns.color_palette('Blues_r',18))\n",
    "# g4.set_xticklabels(step=2,rotation=40)\n",
    "g4.xaxis.set_major_formatter(ticker.PercentFormatter(xmax=1,decimals=1))\n",
    "g4.bar_label(g4.containers[0])\n",
    "g4.bar_label(g4.containers[1])\n",
    "\n",
    "plt.show()"
   ]
  },
  {
   "cell_type": "markdown",
   "id": "d6317938",
   "metadata": {},
   "source": [
    "# 5 Conclusion"
   ]
  },
  {
   "cell_type": "markdown",
   "id": "ffcbbe50",
   "metadata": {},
   "source": [
    "1. There are 1,917,315 XXX members in Shanghai, the database is upto Dec. 2021.\n",
    "\n",
    "2. There are two peaks in the number of party members based on their birth year, around 1954 and 1982, both exceeding 40,000.\n",
    "\n",
    "3. The number of party members based on their birth year had a trough, in 1964, it was less than 20,000. There are also troughs before the 1940s and after the 1990s, but they were too old or too young, it could not be concluded that they were also troughs there.\n",
    "\n",
    "4. There are far more male than female overall, 62.8% vs 37.2%. But there are more female than male before the age of 40."
   ]
  },
  {
   "cell_type": "code",
   "execution_count": 1,
   "id": "a5a10ea7-ee8c-484b-9da9-329b8fa60cf1",
   "metadata": {},
   "outputs": [
    {
     "name": "stdout",
     "output_type": "stream",
     "text": [
      "conda 4.13.0\n"
     ]
    }
   ],
   "source": [
    "!conda -V"
   ]
  }
 ],
 "metadata": {
  "kernelspec": {
   "display_name": "Python 3 (ipykernel)",
   "language": "python",
   "name": "python3"
  },
  "language_info": {
   "codemirror_mode": {
    "name": "ipython",
    "version": 3
   },
   "file_extension": ".py",
   "mimetype": "text/x-python",
   "name": "python",
   "nbconvert_exporter": "python",
   "pygments_lexer": "ipython3",
   "version": "3.11.5"
  }
 },
 "nbformat": 4,
 "nbformat_minor": 5
}
