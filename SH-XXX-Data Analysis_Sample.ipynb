{
 "cells": [
  {
   "cell_type": "markdown",
   "id": "a8e59b03",
   "metadata": {},
   "source": [
    "# About 2 Million Members Age and Gender Distribution Analysis"
   ]
  },
  {
   "cell_type": "markdown",
   "id": "2211b1dc-a699-412b-8fb3-7ca4ba911443",
   "metadata": {},
   "source": [
    "Author: Ryan Xu"
   ]
  },
  {
   "cell_type": "markdown",
   "id": "0544c3cf",
   "metadata": {},
   "source": [
    "# Background\n",
    "The organization in Shanghai has about 2 million members, and this analysis will reveal their age and gender distribution.\r\n",
    "\r\n",
    "For confidentiality reasons, sensitive information was deleted from the original version produced in 2022, anthishe report was re-produced in June 2024."
   ]
  },
  {
   "cell_type": "markdown",
   "id": "8dfecf9c",
   "metadata": {},
   "source": [
    "# 1. import modules"
   ]
  },
  {
   "cell_type": "code",
   "execution_count": 12,
   "id": "f3824939",
   "metadata": {
    "execution": {
     "iopub.execute_input": "2024-06-29T18:24:24.040646Z",
     "iopub.status.busy": "2024-06-29T18:24:24.040646Z",
     "iopub.status.idle": "2024-06-29T18:24:24.044430Z",
     "shell.execute_reply": "2024-06-29T18:24:24.043925Z",
     "shell.execute_reply.started": "2024-06-29T18:24:24.040646Z"
    }
   },
   "outputs": [],
   "source": [
    "import numpy as np\n",
    "import pandas as pd\n",
    "import matplotlib.pyplot as plt\n",
    "import seaborn as sns\n",
    "from datetime import date\n",
    "import datetime"
   ]
  },
  {
   "cell_type": "code",
   "execution_count": 3,
   "id": "f1bde9c5",
   "metadata": {
    "execution": {
     "iopub.execute_input": "2024-06-29T15:23:18.505280Z",
     "iopub.status.busy": "2024-06-29T15:23:18.505280Z",
     "iopub.status.idle": "2024-06-29T15:23:18.509195Z",
     "shell.execute_reply": "2024-06-29T15:23:18.509195Z",
     "shell.execute_reply.started": "2024-06-29T15:23:18.505280Z"
    }
   },
   "outputs": [],
   "source": [
    "pd.options.mode.chained_assignment = None  # default='warn'"
   ]
  },
  {
   "cell_type": "markdown",
   "id": "8a249e40",
   "metadata": {},
   "source": [
    "# 2. Data Preparation\n",
    "## 2.1 Read csv file"
   ]
  },
  {
   "cell_type": "code",
   "execution_count": 33,
   "id": "c73947b9",
   "metadata": {
    "execution": {
     "iopub.execute_input": "2024-06-30T00:10:27.923825Z",
     "iopub.status.busy": "2024-06-30T00:10:27.923825Z",
     "iopub.status.idle": "2024-06-30T00:10:33.038576Z",
     "shell.execute_reply": "2024-06-30T00:10:33.038060Z",
     "shell.execute_reply.started": "2024-06-30T00:10:27.923825Z"
    },
    "scrolled": true,
    "tags": []
   },
   "outputs": [
    {
     "name": "stdout",
     "output_type": "stream",
     "text": [
      "(1956731, 3)\n",
      "<class 'pandas.core.frame.DataFrame'>\n",
      "RangeIndex: 1956731 entries, 0 to 1956730\n",
      "Data columns (total 3 columns):\n",
      " #   Column       Dtype \n",
      "---  ------       ----- \n",
      " 0   id           int64 \n",
      " 1   sex          object\n",
      " 2   id_card_num  object\n",
      "dtypes: int64(1), object(2)\n",
      "memory usage: 44.8+ MB\n",
      "None\n"
     ]
    }
   ],
   "source": [
    "# read the original csv file to df_all\n",
    "columns = ['id', 'sex', 'id_card_num']\n",
    "df_all=pd.read_csv('shanghai-XXX-member-ch-en.csv',sep='\\t', usecols=columns, low_memory=False)\n",
    "print(df_all.shape)\n",
    "print(df_all.info())"
   ]
  },
  {
   "cell_type": "code",
   "execution_count": 34,
   "id": "fc07c23b-9b37-47cc-a06b-8425a935b006",
   "metadata": {
    "execution": {
     "iopub.execute_input": "2024-06-30T00:10:46.149088Z",
     "iopub.status.busy": "2024-06-30T00:10:46.149088Z",
     "iopub.status.idle": "2024-06-30T00:10:46.234870Z",
     "shell.execute_reply": "2024-06-30T00:10:46.234870Z",
     "shell.execute_reply.started": "2024-06-30T00:10:46.149088Z"
    }
   },
   "outputs": [
    {
     "name": "stdout",
     "output_type": "stream",
     "text": [
      "id                 0\n",
      "sex                0\n",
      "id_card_num    21072\n",
      "dtype: int64\n",
      "df_all shape:  (1956731, 3) \n",
      "\n"
     ]
    }
   ],
   "source": [
    "# clean the data: id_card_num == NaN, save to df3\n",
    "print(df_all.isna().sum())\n",
    "print('df_all shape: ',df_all.shape,'\\n')"
   ]
  },
  {
   "cell_type": "markdown",
   "id": "b77bed7f",
   "metadata": {},
   "source": [
    "## 2.2 Clean date: dropna"
   ]
  },
  {
   "cell_type": "code",
   "execution_count": 61,
   "id": "45ffc63b",
   "metadata": {
    "execution": {
     "iopub.execute_input": "2024-06-30T00:34:26.456665Z",
     "iopub.status.busy": "2024-06-30T00:34:26.456665Z",
     "iopub.status.idle": "2024-06-30T00:34:26.604341Z",
     "shell.execute_reply": "2024-06-30T00:34:26.604341Z",
     "shell.execute_reply.started": "2024-06-30T00:34:26.456665Z"
    }
   },
   "outputs": [
    {
     "name": "stdout",
     "output_type": "stream",
     "text": [
      "df_noMissing shape:  (1935659, 3)\n"
     ]
    }
   ],
   "source": [
    "df_noMissing = df_all.dropna(subset=['id_card_num'])\n",
    "print('df_noMissing shape: ',df_noMissing.shape)"
   ]
  },
  {
   "cell_type": "markdown",
   "id": "a4581cc3-5554-4ccb-a980-d469bf42bf7d",
   "metadata": {},
   "source": [
    "## 2.3 Data Validation"
   ]
  },
  {
   "cell_type": "markdown",
   "id": "8a77f4b4-f776-457c-958a-eab4e3c20b5d",
   "metadata": {},
   "source": [
    "There's no Age column in the dataset but it can be extracted from \"id_card_num\", normally the \"id_card_num\" is like this \"310119200112310131\", a total of 18 digits, of which the 7th to 14th digits, here \"20011231\", represent the date of birth.\n",
    "\n",
    "However, we need to consider the possibility of input errors, so we need to verify the birthday."
   ]
  },
  {
   "cell_type": "code",
   "execution_count": 96,
   "id": "2b35535d",
   "metadata": {
    "execution": {
     "iopub.execute_input": "2024-06-30T01:02:19.878148Z",
     "iopub.status.busy": "2024-06-30T01:02:19.877151Z",
     "iopub.status.idle": "2024-06-30T01:02:19.883615Z",
     "shell.execute_reply": "2024-06-30T01:02:19.883103Z",
     "shell.execute_reply.started": "2024-06-30T01:02:19.878148Z"
    }
   },
   "outputs": [],
   "source": [
    "# Define the function to check date String\n",
    "def isValidDate(datestr):\n",
    "    if len(datestr) != 8 or not datestr.isdigit():\n",
    "        return False\n",
    "    try:\n",
    "        # Extract year, month, and day from datestr\n",
    "        year = int(datestr[0:4])\n",
    "        month = int(datestr[4:6])\n",
    "        day = int(datestr[6:])\n",
    "\n",
    "        # Check if the year is within a reasonable range for birthdates\n",
    "        # current_year = date.today().year\n",
    "        current_year = 2021 # The data is get in 2021\n",
    "        if year < 1920 or year > current_year:\n",
    "            return False\n",
    "\n",
    "        # Try to format the date string into the standard format of 'YYYY-MM-DD'\n",
    "        datestr = f\"{year:04d}-{month:02d}-{day:02d}\"\n",
    "\n",
    "        # Convert the string to a date object to ensure it is a valid date\n",
    "        date.fromisoformat(datestr)\n",
    "        # print(f\"Valid date: {datestr}\")\n",
    "        return True\n",
    "    except ValueError:\n",
    "        # print(f\"Invalid date: {datestr}\")\n",
    "        return False"
   ]
  },
  {
   "cell_type": "code",
   "execution_count": 97,
   "id": "86f528d1-8b7e-4ae8-9f37-7158627d84fe",
   "metadata": {
    "execution": {
     "iopub.execute_input": "2024-06-30T01:02:22.695796Z",
     "iopub.status.busy": "2024-06-30T01:02:22.695796Z",
     "iopub.status.idle": "2024-06-30T01:02:23.038073Z",
     "shell.execute_reply": "2024-06-30T01:02:23.038073Z",
     "shell.execute_reply.started": "2024-06-30T01:02:22.695796Z"
    }
   },
   "outputs": [
    {
     "data": {
      "text/html": [
       "<div>\n",
       "<style scoped>\n",
       "    .dataframe tbody tr th:only-of-type {\n",
       "        vertical-align: middle;\n",
       "    }\n",
       "\n",
       "    .dataframe tbody tr th {\n",
       "        vertical-align: top;\n",
       "    }\n",
       "\n",
       "    .dataframe thead th {\n",
       "        text-align: right;\n",
       "    }\n",
       "</style>\n",
       "<table border=\"1\" class=\"dataframe\">\n",
       "  <thead>\n",
       "    <tr style=\"text-align: right;\">\n",
       "      <th></th>\n",
       "      <th>id</th>\n",
       "      <th>sex</th>\n",
       "      <th>dob</th>\n",
       "    </tr>\n",
       "  </thead>\n",
       "  <tbody>\n",
       "    <tr>\n",
       "      <th>0</th>\n",
       "      <td>1</td>\n",
       "      <td>女(Female)</td>\n",
       "      <td>19830508</td>\n",
       "    </tr>\n",
       "    <tr>\n",
       "      <th>1</th>\n",
       "      <td>2</td>\n",
       "      <td>男(male)</td>\n",
       "      <td>19531029</td>\n",
       "    </tr>\n",
       "    <tr>\n",
       "      <th>2</th>\n",
       "      <td>3</td>\n",
       "      <td>男(male)</td>\n",
       "      <td>19290408</td>\n",
       "    </tr>\n",
       "    <tr>\n",
       "      <th>3</th>\n",
       "      <td>4</td>\n",
       "      <td>女(Female)</td>\n",
       "      <td>19740109</td>\n",
       "    </tr>\n",
       "    <tr>\n",
       "      <th>4</th>\n",
       "      <td>5</td>\n",
       "      <td>男(male)</td>\n",
       "      <td>19421220</td>\n",
       "    </tr>\n",
       "  </tbody>\n",
       "</table>\n",
       "</div>"
      ],
      "text/plain": [
       "   id        sex       dob\n",
       "0   1  女(Female)  19830508\n",
       "1   2    男(male)  19531029\n",
       "2   3    男(male)  19290408\n",
       "3   4  女(Female)  19740109\n",
       "4   5    男(male)  19421220"
      ]
     },
     "execution_count": 97,
     "metadata": {},
     "output_type": "execute_result"
    }
   ],
   "source": [
    "# extract date of birth from \"id_card_num\"\n",
    "df_noMissing['dob'] = df_noMissing['id_card_num'].str.slice(6,14)\n",
    "\n",
    "# For secret reason delete the 'id_card_num'\n",
    "df_noMissing_dob = df_noMissing.drop(['id_card_num'],axis=1)\n",
    "df_noMissing_dob.head()"
   ]
  },
  {
   "cell_type": "code",
   "execution_count": 24,
   "id": "f81b4119",
   "metadata": {
    "execution": {
     "iopub.execute_input": "2024-06-29T23:56:07.816353Z",
     "iopub.status.busy": "2024-06-29T23:56:07.815354Z",
     "iopub.status.idle": "2024-06-29T23:56:11.147469Z",
     "shell.execute_reply": "2024-06-29T23:56:11.147469Z",
     "shell.execute_reply.started": "2024-06-29T23:56:07.816353Z"
    }
   },
   "outputs": [],
   "source": [
    "# import swifter to speed\n",
    "import swifter"
   ]
  },
  {
   "cell_type": "code",
   "execution_count": 98,
   "id": "9ceb3dec",
   "metadata": {
    "execution": {
     "iopub.execute_input": "2024-06-30T01:02:26.018625Z",
     "iopub.status.busy": "2024-06-30T01:02:26.018625Z",
     "iopub.status.idle": "2024-06-30T01:02:31.081306Z",
     "shell.execute_reply": "2024-06-30T01:02:31.081306Z",
     "shell.execute_reply.started": "2024-06-30T01:02:26.018625Z"
    },
    "scrolled": true
   },
   "outputs": [
    {
     "data": {
      "application/vnd.jupyter.widget-view+json": {
       "model_id": "a5aaec08c2bb4e0889a2c5388015b906",
       "version_major": 2,
       "version_minor": 0
      },
      "text/plain": [
       "Pandas Apply:   0%|          | 0/1935659 [00:00<?, ?it/s]"
      ]
     },
     "metadata": {},
     "output_type": "display_data"
    },
    {
     "data": {
      "text/html": [
       "<div>\n",
       "<style scoped>\n",
       "    .dataframe tbody tr th:only-of-type {\n",
       "        vertical-align: middle;\n",
       "    }\n",
       "\n",
       "    .dataframe tbody tr th {\n",
       "        vertical-align: top;\n",
       "    }\n",
       "\n",
       "    .dataframe thead th {\n",
       "        text-align: right;\n",
       "    }\n",
       "</style>\n",
       "<table border=\"1\" class=\"dataframe\">\n",
       "  <thead>\n",
       "    <tr style=\"text-align: right;\">\n",
       "      <th></th>\n",
       "      <th>id</th>\n",
       "      <th>sex</th>\n",
       "      <th>dob</th>\n",
       "      <th>ageCheck</th>\n",
       "    </tr>\n",
       "  </thead>\n",
       "  <tbody>\n",
       "    <tr>\n",
       "      <th>0</th>\n",
       "      <td>1</td>\n",
       "      <td>女(Female)</td>\n",
       "      <td>19830508</td>\n",
       "      <td>True</td>\n",
       "    </tr>\n",
       "    <tr>\n",
       "      <th>1</th>\n",
       "      <td>2</td>\n",
       "      <td>男(male)</td>\n",
       "      <td>19531029</td>\n",
       "      <td>True</td>\n",
       "    </tr>\n",
       "    <tr>\n",
       "      <th>2</th>\n",
       "      <td>3</td>\n",
       "      <td>男(male)</td>\n",
       "      <td>19290408</td>\n",
       "      <td>True</td>\n",
       "    </tr>\n",
       "    <tr>\n",
       "      <th>3</th>\n",
       "      <td>4</td>\n",
       "      <td>女(Female)</td>\n",
       "      <td>19740109</td>\n",
       "      <td>True</td>\n",
       "    </tr>\n",
       "    <tr>\n",
       "      <th>4</th>\n",
       "      <td>5</td>\n",
       "      <td>男(male)</td>\n",
       "      <td>19421220</td>\n",
       "      <td>True</td>\n",
       "    </tr>\n",
       "  </tbody>\n",
       "</table>\n",
       "</div>"
      ],
      "text/plain": [
       "   id        sex       dob  ageCheck\n",
       "0   1  女(Female)  19830508      True\n",
       "1   2    男(male)  19531029      True\n",
       "2   3    男(male)  19290408      True\n",
       "3   4  女(Female)  19740109      True\n",
       "4   5    男(male)  19421220      True"
      ]
     },
     "execution_count": 98,
     "metadata": {},
     "output_type": "execute_result"
    }
   ],
   "source": [
    "# if no swifter the calculate time is about 1 min, but with it only several seconds!\n",
    "ageCheck = df_noMissing_dob['dob'].swifter.apply(lambda x: isValidDate(x))\n",
    "df_noMissing_dob['ageCheck'] = ageCheck\n",
    "df_noMissing_dob.head()"
   ]
  },
  {
   "cell_type": "code",
   "execution_count": 99,
   "id": "9aeaa732-db4e-4f5a-94e3-dfbe997abdec",
   "metadata": {
    "execution": {
     "iopub.execute_input": "2024-06-30T01:02:33.144105Z",
     "iopub.status.busy": "2024-06-30T01:02:33.144105Z",
     "iopub.status.idle": "2024-06-30T01:02:33.166476Z",
     "shell.execute_reply": "2024-06-30T01:02:33.166476Z",
     "shell.execute_reply.started": "2024-06-30T01:02:33.144105Z"
    }
   },
   "outputs": [
    {
     "name": "stdout",
     "output_type": "stream",
     "text": [
      "df_noMissing_dob shape:  (1935659, 4)\n",
      "ageCheck\n",
      "True     1916363\n",
      "False      19296\n",
      "Name: count, dtype: int64\n"
     ]
    },
    {
     "data": {
      "text/html": [
       "<div>\n",
       "<style scoped>\n",
       "    .dataframe tbody tr th:only-of-type {\n",
       "        vertical-align: middle;\n",
       "    }\n",
       "\n",
       "    .dataframe tbody tr th {\n",
       "        vertical-align: top;\n",
       "    }\n",
       "\n",
       "    .dataframe thead th {\n",
       "        text-align: right;\n",
       "    }\n",
       "</style>\n",
       "<table border=\"1\" class=\"dataframe\">\n",
       "  <thead>\n",
       "    <tr style=\"text-align: right;\">\n",
       "      <th></th>\n",
       "      <th>id</th>\n",
       "      <th>sex</th>\n",
       "      <th>dob</th>\n",
       "      <th>ageCheck</th>\n",
       "    </tr>\n",
       "  </thead>\n",
       "  <tbody>\n",
       "    <tr>\n",
       "      <th>173</th>\n",
       "      <td>174</td>\n",
       "      <td>男(male)</td>\n",
       "      <td>09550908</td>\n",
       "      <td>False</td>\n",
       "    </tr>\n",
       "    <tr>\n",
       "      <th>364</th>\n",
       "      <td>365</td>\n",
       "      <td>女(Female)</td>\n",
       "      <td></td>\n",
       "      <td>False</td>\n",
       "    </tr>\n",
       "    <tr>\n",
       "      <th>784</th>\n",
       "      <td>785</td>\n",
       "      <td>女(Female)</td>\n",
       "      <td></td>\n",
       "      <td>False</td>\n",
       "    </tr>\n",
       "    <tr>\n",
       "      <th>1926</th>\n",
       "      <td>1927</td>\n",
       "      <td>男(male)</td>\n",
       "      <td></td>\n",
       "      <td>False</td>\n",
       "    </tr>\n",
       "    <tr>\n",
       "      <th>3202</th>\n",
       "      <td>3203</td>\n",
       "      <td>女(Female)</td>\n",
       "      <td>19170315</td>\n",
       "      <td>False</td>\n",
       "    </tr>\n",
       "  </tbody>\n",
       "</table>\n",
       "</div>"
      ],
      "text/plain": [
       "        id        sex       dob  ageCheck\n",
       "173    174    男(male)  09550908     False\n",
       "364    365  女(Female)               False\n",
       "784    785  女(Female)               False\n",
       "1926  1927    男(male)               False\n",
       "3202  3203  女(Female)  19170315     False"
      ]
     },
     "execution_count": 99,
     "metadata": {},
     "output_type": "execute_result"
    }
   ],
   "source": [
    "print('df_noMissing_dob shape: ', df_noMissing_dob.shape)\n",
    "print(df_noMissing_dob['ageCheck'].value_counts())\n",
    "df_noMissing_dob[df_noMissing_dob['ageCheck'] == False].head()"
   ]
  },
  {
   "cell_type": "code",
   "execution_count": 104,
   "id": "f65d959a-14c4-4383-9323-56ac4ef4df67",
   "metadata": {
    "execution": {
     "iopub.execute_input": "2024-06-30T01:04:16.075949Z",
     "iopub.status.busy": "2024-06-30T01:04:16.075949Z",
     "iopub.status.idle": "2024-06-30T01:04:16.159337Z",
     "shell.execute_reply": "2024-06-30T01:04:16.159337Z",
     "shell.execute_reply.started": "2024-06-30T01:04:16.075949Z"
    }
   },
   "outputs": [
    {
     "name": "stdout",
     "output_type": "stream",
     "text": [
      "df_noMissing_validAge shape:  (1916363, 4)\n"
     ]
    },
    {
     "data": {
      "text/html": [
       "<div>\n",
       "<style scoped>\n",
       "    .dataframe tbody tr th:only-of-type {\n",
       "        vertical-align: middle;\n",
       "    }\n",
       "\n",
       "    .dataframe tbody tr th {\n",
       "        vertical-align: top;\n",
       "    }\n",
       "\n",
       "    .dataframe thead th {\n",
       "        text-align: right;\n",
       "    }\n",
       "</style>\n",
       "<table border=\"1\" class=\"dataframe\">\n",
       "  <thead>\n",
       "    <tr style=\"text-align: right;\">\n",
       "      <th></th>\n",
       "      <th>id</th>\n",
       "      <th>sex</th>\n",
       "      <th>dob</th>\n",
       "      <th>ageCheck</th>\n",
       "    </tr>\n",
       "  </thead>\n",
       "  <tbody>\n",
       "    <tr>\n",
       "      <th>0</th>\n",
       "      <td>1</td>\n",
       "      <td>女(Female)</td>\n",
       "      <td>19830508</td>\n",
       "      <td>True</td>\n",
       "    </tr>\n",
       "    <tr>\n",
       "      <th>1</th>\n",
       "      <td>2</td>\n",
       "      <td>男(male)</td>\n",
       "      <td>19531029</td>\n",
       "      <td>True</td>\n",
       "    </tr>\n",
       "    <tr>\n",
       "      <th>2</th>\n",
       "      <td>3</td>\n",
       "      <td>男(male)</td>\n",
       "      <td>19290408</td>\n",
       "      <td>True</td>\n",
       "    </tr>\n",
       "    <tr>\n",
       "      <th>3</th>\n",
       "      <td>4</td>\n",
       "      <td>女(Female)</td>\n",
       "      <td>19740109</td>\n",
       "      <td>True</td>\n",
       "    </tr>\n",
       "    <tr>\n",
       "      <th>4</th>\n",
       "      <td>5</td>\n",
       "      <td>男(male)</td>\n",
       "      <td>19421220</td>\n",
       "      <td>True</td>\n",
       "    </tr>\n",
       "  </tbody>\n",
       "</table>\n",
       "</div>"
      ],
      "text/plain": [
       "   id        sex       dob  ageCheck\n",
       "0   1  女(Female)  19830508      True\n",
       "1   2    男(male)  19531029      True\n",
       "2   3    男(male)  19290408      True\n",
       "3   4  女(Female)  19740109      True\n",
       "4   5    男(male)  19421220      True"
      ]
     },
     "execution_count": 104,
     "metadata": {},
     "output_type": "execute_result"
    }
   ],
   "source": [
    "# Drop the rows that without valid age\n",
    "df_noMissing_validAge = df_noMissing_dob[df_noMissing_dob['ageCheck']]\n",
    "print('df_noMissing_validAge shape: ', df_noMissing_validAge.shape)\n",
    "df_noMissing_validAge.head()"
   ]
  },
  {
   "cell_type": "markdown",
   "id": "2354ee8b-295d-48d4-8990-d1a9f15244b3",
   "metadata": {},
   "source": [
    "## 2.4 Data Construction"
   ]
  },
  {
   "cell_type": "markdown",
   "id": "114cdddf-927a-4a5a-9196-7938946e2f1d",
   "metadata": {},
   "source": [
    "Create the \"age\" column as the validated \"dob\", date of birth."
   ]
  },
  {
   "cell_type": "code",
   "execution_count": 105,
   "id": "dcf1c967-b453-44e9-87fe-ccdfadf72999",
   "metadata": {
    "execution": {
     "iopub.execute_input": "2024-06-30T01:04:31.867765Z",
     "iopub.status.busy": "2024-06-30T01:04:31.867765Z",
     "iopub.status.idle": "2024-06-30T01:04:32.287029Z",
     "shell.execute_reply": "2024-06-30T01:04:32.286018Z",
     "shell.execute_reply.started": "2024-06-30T01:04:31.867765Z"
    }
   },
   "outputs": [
    {
     "name": "stdout",
     "output_type": "stream",
     "text": [
      "<class 'pandas.core.frame.DataFrame'>\n",
      "Index: 1916363 entries, 0 to 1956730\n",
      "Data columns (total 5 columns):\n",
      " #   Column     Dtype \n",
      "---  ------     ----- \n",
      " 0   id         int64 \n",
      " 1   sex        object\n",
      " 2   dob        object\n",
      " 3   BirthYear  int32 \n",
      " 4   age        int32 \n",
      "dtypes: int32(2), int64(1), object(2)\n",
      "memory usage: 73.1+ MB\n",
      "None\n",
      "df_noMissing_validAge shape:  (1916363, 5)\n"
     ]
    },
    {
     "data": {
      "text/html": [
       "<div>\n",
       "<style scoped>\n",
       "    .dataframe tbody tr th:only-of-type {\n",
       "        vertical-align: middle;\n",
       "    }\n",
       "\n",
       "    .dataframe tbody tr th {\n",
       "        vertical-align: top;\n",
       "    }\n",
       "\n",
       "    .dataframe thead th {\n",
       "        text-align: right;\n",
       "    }\n",
       "</style>\n",
       "<table border=\"1\" class=\"dataframe\">\n",
       "  <thead>\n",
       "    <tr style=\"text-align: right;\">\n",
       "      <th></th>\n",
       "      <th>id</th>\n",
       "      <th>sex</th>\n",
       "      <th>dob</th>\n",
       "      <th>BirthYear</th>\n",
       "      <th>age</th>\n",
       "    </tr>\n",
       "  </thead>\n",
       "  <tbody>\n",
       "    <tr>\n",
       "      <th>0</th>\n",
       "      <td>1</td>\n",
       "      <td>女(Female)</td>\n",
       "      <td>19830508</td>\n",
       "      <td>1983</td>\n",
       "      <td>38</td>\n",
       "    </tr>\n",
       "    <tr>\n",
       "      <th>1</th>\n",
       "      <td>2</td>\n",
       "      <td>男(male)</td>\n",
       "      <td>19531029</td>\n",
       "      <td>1953</td>\n",
       "      <td>68</td>\n",
       "    </tr>\n",
       "    <tr>\n",
       "      <th>2</th>\n",
       "      <td>3</td>\n",
       "      <td>男(male)</td>\n",
       "      <td>19290408</td>\n",
       "      <td>1929</td>\n",
       "      <td>92</td>\n",
       "    </tr>\n",
       "    <tr>\n",
       "      <th>3</th>\n",
       "      <td>4</td>\n",
       "      <td>女(Female)</td>\n",
       "      <td>19740109</td>\n",
       "      <td>1974</td>\n",
       "      <td>47</td>\n",
       "    </tr>\n",
       "    <tr>\n",
       "      <th>4</th>\n",
       "      <td>5</td>\n",
       "      <td>男(male)</td>\n",
       "      <td>19421220</td>\n",
       "      <td>1942</td>\n",
       "      <td>79</td>\n",
       "    </tr>\n",
       "  </tbody>\n",
       "</table>\n",
       "</div>"
      ],
      "text/plain": [
       "   id        sex       dob  BirthYear  age\n",
       "0   1  女(Female)  19830508       1983   38\n",
       "1   2    男(male)  19531029       1953   68\n",
       "2   3    男(male)  19290408       1929   92\n",
       "3   4  女(Female)  19740109       1974   47\n",
       "4   5    男(male)  19421220       1942   79"
      ]
     },
     "execution_count": 105,
     "metadata": {},
     "output_type": "execute_result"
    }
   ],
   "source": [
    "if set('age').issubset(df_noMissing_validAge.columns):\n",
    "    df_noMissing_validAge.drop(['age'],axis=1,inplace=True)\n",
    "    \n",
    "df_noMissing_validAge['BirthYear'] = df_noMissing_validAge['dob'].str.slice(0,4).astype(int)\n",
    "\n",
    "# the year was 2021\n",
    "# df_noMissing_validAge['age'] = datetime.datetime.now().year - df_noMissing_validAge['BirthYear'] \n",
    "df_noMissing_validAge['age'] = 2021 - df_noMissing_validAge['BirthYear'] \n",
    "df_noMissing_validAge.drop(columns='ageCheck',inplace=True)\n",
    "print(df_noMissing_validAge.info())\n",
    "print('df_noMissing_validAge shape: ', df_noMissing_validAge.shape)\n",
    "df_noMissing_validAge.head()"
   ]
  },
  {
   "cell_type": "code",
   "execution_count": 106,
   "id": "3dbcc856",
   "metadata": {
    "execution": {
     "iopub.execute_input": "2024-06-30T01:04:40.996511Z",
     "iopub.status.busy": "2024-06-30T01:04:40.996511Z",
     "iopub.status.idle": "2024-06-30T01:04:41.031607Z",
     "shell.execute_reply": "2024-06-30T01:04:41.031607Z",
     "shell.execute_reply.started": "2024-06-30T01:04:40.996511Z"
    }
   },
   "outputs": [
    {
     "name": "stdout",
     "output_type": "stream",
     "text": [
      "count   1916363.00\n",
      "mean         57.13\n",
      "std          18.45\n",
      "min          15.00\n",
      "25%          40.00\n",
      "50%          58.00\n",
      "75%          71.00\n",
      "max         101.00\n",
      "Name: age, dtype: float64\n"
     ]
    }
   ],
   "source": [
    "# Display the describe output without scientific notation\n",
    "with pd.option_context('display.float_format', '{:.2f}'.format):\n",
    "    print(df_noMissing_validAge['age'].describe())"
   ]
  },
  {
   "cell_type": "markdown",
   "id": "7887c4ac",
   "metadata": {},
   "source": [
    "# 3. Age Distribution\n",
    "## 3.1 plot the \"Date of Birth(Year)\""
   ]
  },
  {
   "cell_type": "code",
   "execution_count": 107,
   "id": "cb4f679c",
   "metadata": {
    "execution": {
     "iopub.execute_input": "2024-06-30T01:04:52.897535Z",
     "iopub.status.busy": "2024-06-30T01:04:52.897535Z",
     "iopub.status.idle": "2024-06-30T01:04:53.927166Z",
     "shell.execute_reply": "2024-06-30T01:04:53.927166Z",
     "shell.execute_reply.started": "2024-06-30T01:04:52.897535Z"
    }
   },
   "outputs": [
    {
     "data": {
      "text/plain": [
       "<Figure size 640x480 with 0 Axes>"
      ]
     },
     "metadata": {},
     "output_type": "display_data"
    },
    {
     "data": {
      "image/png": "[encoded data removed]",
      "text/plain": [
       "<Figure size 1200x800 with 1 Axes>"
      ]
     },
     "metadata": {},
     "output_type": "display_data"
    }
   ],
   "source": [
    "# customer the plot\n",
    "# colors = [\"#FF0B04\", \"#4374B3\"]\n",
    "plt.clf()\n",
    "sns.set_palette(sns.color_palette('rocket'))\n",
    "\n",
    "#plt.figure(figsize=(12,8))\n",
    "g1 = sns.catplot(x='BirthYear', data = df_noMissing_validAge[['BirthYear']], kind ='count', height=8, aspect=1.5)\n",
    "g1.set_xticklabels(step=2,rotation=40)\n",
    "plt.show()"
   ]
  },
  {
   "cell_type": "markdown",
   "id": "fadf48cf",
   "metadata": {},
   "source": [
    "# 4 Age & Gender Distribution\n",
    "## 4.1 clean data: `sex` column"
   ]
  },
  {
   "cell_type": "code",
   "execution_count": 108,
   "id": "68dd57d7",
   "metadata": {
    "execution": {
     "iopub.execute_input": "2024-06-30T01:04:58.441385Z",
     "iopub.status.busy": "2024-06-30T01:04:58.440325Z",
     "iopub.status.idle": "2024-06-30T01:04:58.529987Z",
     "shell.execute_reply": "2024-06-30T01:04:58.529987Z",
     "shell.execute_reply.started": "2024-06-30T01:04:58.440325Z"
    }
   },
   "outputs": [
    {
     "data": {
      "text/plain": [
       "id           0\n",
       "sex          0\n",
       "dob          0\n",
       "BirthYear    0\n",
       "age          0\n",
       "dtype: int64"
      ]
     },
     "execution_count": 108,
     "metadata": {},
     "output_type": "execute_result"
    }
   ],
   "source": [
    "# Check if there are NaN data in sex column\n",
    "df_noMissing_validAge.isna().sum()"
   ]
  },
  {
   "cell_type": "code",
   "execution_count": 109,
   "id": "d2ba59f9",
   "metadata": {
    "execution": {
     "iopub.execute_input": "2024-06-30T01:05:00.717261Z",
     "iopub.status.busy": "2024-06-30T01:05:00.716258Z",
     "iopub.status.idle": "2024-06-30T01:05:01.052071Z",
     "shell.execute_reply": "2024-06-30T01:05:01.052071Z",
     "shell.execute_reply.started": "2024-06-30T01:05:00.717261Z"
    }
   },
   "outputs": [
    {
     "name": "stdout",
     "output_type": "stream",
     "text": [
      "sex\n",
      "男(male)      1203483\n",
      "女(Female)     712880\n",
      "Name: count, dtype: int64\n",
      "<class 'pandas.core.frame.DataFrame'>\n"
     ]
    },
    {
     "data": {
      "text/html": [
       "<div>\n",
       "<style scoped>\n",
       "    .dataframe tbody tr th:only-of-type {\n",
       "        vertical-align: middle;\n",
       "    }\n",
       "\n",
       "    .dataframe tbody tr th {\n",
       "        vertical-align: top;\n",
       "    }\n",
       "\n",
       "    .dataframe thead th {\n",
       "        text-align: right;\n",
       "    }\n",
       "</style>\n",
       "<table border=\"1\" class=\"dataframe\">\n",
       "  <thead>\n",
       "    <tr style=\"text-align: right;\">\n",
       "      <th></th>\n",
       "      <th>age</th>\n",
       "      <th>sex</th>\n",
       "      <th>count</th>\n",
       "    </tr>\n",
       "  </thead>\n",
       "  <tbody>\n",
       "    <tr>\n",
       "      <th>0</th>\n",
       "      <td>15</td>\n",
       "      <td>男(male)</td>\n",
       "      <td>1</td>\n",
       "    </tr>\n",
       "    <tr>\n",
       "      <th>1</th>\n",
       "      <td>22</td>\n",
       "      <td>男(male)</td>\n",
       "      <td>1</td>\n",
       "    </tr>\n",
       "    <tr>\n",
       "      <th>2</th>\n",
       "      <td>23</td>\n",
       "      <td>女(Female)</td>\n",
       "      <td>1</td>\n",
       "    </tr>\n",
       "    <tr>\n",
       "      <th>3</th>\n",
       "      <td>24</td>\n",
       "      <td>女(Female)</td>\n",
       "      <td>40</td>\n",
       "    </tr>\n",
       "    <tr>\n",
       "      <th>4</th>\n",
       "      <td>24</td>\n",
       "      <td>男(male)</td>\n",
       "      <td>27</td>\n",
       "    </tr>\n",
       "    <tr>\n",
       "      <th>...</th>\n",
       "      <td>...</td>\n",
       "      <td>...</td>\n",
       "      <td>...</td>\n",
       "    </tr>\n",
       "    <tr>\n",
       "      <th>154</th>\n",
       "      <td>99</td>\n",
       "      <td>女(Female)</td>\n",
       "      <td>438</td>\n",
       "    </tr>\n",
       "    <tr>\n",
       "      <th>155</th>\n",
       "      <td>100</td>\n",
       "      <td>男(male)</td>\n",
       "      <td>580</td>\n",
       "    </tr>\n",
       "    <tr>\n",
       "      <th>156</th>\n",
       "      <td>100</td>\n",
       "      <td>女(Female)</td>\n",
       "      <td>297</td>\n",
       "    </tr>\n",
       "    <tr>\n",
       "      <th>157</th>\n",
       "      <td>101</td>\n",
       "      <td>男(male)</td>\n",
       "      <td>391</td>\n",
       "    </tr>\n",
       "    <tr>\n",
       "      <th>158</th>\n",
       "      <td>101</td>\n",
       "      <td>女(Female)</td>\n",
       "      <td>200</td>\n",
       "    </tr>\n",
       "  </tbody>\n",
       "</table>\n",
       "<p>159 rows × 3 columns</p>\n",
       "</div>"
      ],
      "text/plain": [
       "     age        sex  count\n",
       "0     15    男(male)      1\n",
       "1     22    男(male)      1\n",
       "2     23  女(Female)      1\n",
       "3     24  女(Female)     40\n",
       "4     24    男(male)     27\n",
       "..   ...        ...    ...\n",
       "154   99  女(Female)    438\n",
       "155  100    男(male)    580\n",
       "156  100  女(Female)    297\n",
       "157  101    男(male)    391\n",
       "158  101  女(Female)    200\n",
       "\n",
       "[159 rows x 3 columns]"
      ]
     },
     "execution_count": 109,
     "metadata": {},
     "output_type": "execute_result"
    }
   ],
   "source": [
    "# Check the sex value kind\n",
    "print(df_noMissing_validAge['sex'].value_counts())\n",
    "df_genderGroupByAge = df_noMissing_validAge[['sex','age']].groupby('age').value_counts()\n",
    "df_genderGroupByAge = df_genderGroupByAge.reset_index()\n",
    "print(type(df_genderGroupByAge))\n",
    "df_genderGroupByAge"
   ]
  },
  {
   "cell_type": "code",
   "execution_count": 110,
   "id": "212c3924",
   "metadata": {
    "execution": {
     "iopub.execute_input": "2024-06-30T01:05:04.137116Z",
     "iopub.status.busy": "2024-06-30T01:05:04.137116Z",
     "iopub.status.idle": "2024-06-30T01:05:04.142317Z",
     "shell.execute_reply": "2024-06-30T01:05:04.142317Z",
     "shell.execute_reply.started": "2024-06-30T01:05:04.137116Z"
    }
   },
   "outputs": [
    {
     "data": {
      "text/plain": [
       "Index(['age', 'sex', 'count'], dtype='object')"
      ]
     },
     "execution_count": 110,
     "metadata": {},
     "output_type": "execute_result"
    }
   ],
   "source": [
    "df_genderGroupByAge.columns"
   ]
  },
  {
   "cell_type": "markdown",
   "id": "80874347",
   "metadata": {},
   "source": [
    "## 4.2 plot the age and gender"
   ]
  },
  {
   "cell_type": "code",
   "execution_count": 114,
   "id": "c60a1ff3",
   "metadata": {
    "execution": {
     "iopub.execute_input": "2024-06-30T01:07:39.534995Z",
     "iopub.status.busy": "2024-06-30T01:07:39.534995Z",
     "iopub.status.idle": "2024-06-30T01:07:39.539730Z",
     "shell.execute_reply": "2024-06-30T01:07:39.538716Z",
     "shell.execute_reply.started": "2024-06-30T01:07:39.534995Z"
    }
   },
   "outputs": [],
   "source": [
    "import matplotlib\n",
    "\n",
    "# Set the font to a font that supports Chinese characters\n",
    "matplotlib.rcParams['font.sans-serif'] = ['SimHei']  # Use 'MS Gothic' for Windows\n",
    "\n",
    "# Ensure that negative values are displayed correctly\n",
    "matplotlib.rcParams['axes.unicode_minus'] = False"
   ]
  },
  {
   "cell_type": "code",
   "execution_count": 115,
   "id": "025dd508",
   "metadata": {
    "execution": {
     "iopub.execute_input": "2024-06-30T01:07:43.543785Z",
     "iopub.status.busy": "2024-06-30T01:07:43.543785Z",
     "iopub.status.idle": "2024-06-30T01:07:44.805812Z",
     "shell.execute_reply": "2024-06-30T01:07:44.805299Z",
     "shell.execute_reply.started": "2024-06-30T01:07:43.543785Z"
    }
   },
   "outputs": [
    {
     "data": {
      "image/png": "[encoded data removed]",
      "text/plain": [
       "<Figure size 1319.5x800 with 1 Axes>"
      ]
     },
     "metadata": {},
     "output_type": "display_data"
    }
   ],
   "source": [
    "# customer the plot\n",
    "colors = [\"#4374B3\",\"#FF0B04\"]\n",
    "#sns.set_palette(sns.color_palette('RdBu'))\n",
    "sns.set_palette(sns.color_palette(colors))\n",
    "\n",
    "g2 = sns.catplot(data=df_genderGroupByAge,\n",
    "                 kind='bar',\n",
    "                 x='age',\n",
    "                 y='count',\n",
    "                 hue='sex',\n",
    "                 ci='sd',\n",
    "                 alpha=0.6,\n",
    "                 height=8, \n",
    "                 aspect=1.5)\n",
    "g2.set_xticklabels(step=2, rotation=40)\n",
    "# g2.legend()\n",
    "plt.show()"
   ]
  },
  {
   "cell_type": "code",
   "execution_count": 116,
   "id": "25552b45-8660-4bc7-b8c9-9808e921f219",
   "metadata": {
    "execution": {
     "iopub.execute_input": "2024-06-30T01:08:47.497520Z",
     "iopub.status.busy": "2024-06-30T01:08:47.496521Z",
     "iopub.status.idle": "2024-06-30T01:08:47.556437Z",
     "shell.execute_reply": "2024-06-30T01:08:47.556437Z",
     "shell.execute_reply.started": "2024-06-30T01:08:47.496521Z"
    }
   },
   "outputs": [
    {
     "name": "stdout",
     "output_type": "stream",
     "text": [
      "sex\n",
      "男(male)      1203483\n",
      "女(Female)     712880\n",
      "Name: count, dtype: int64\n"
     ]
    }
   ],
   "source": [
    "print(df_noMissing_validAge['sex'].value_counts())"
   ]
  },
  {
   "cell_type": "code",
   "execution_count": 117,
   "id": "24593c87",
   "metadata": {
    "execution": {
     "iopub.execute_input": "2024-06-30T01:08:49.813002Z",
     "iopub.status.busy": "2024-06-30T01:08:49.813002Z",
     "iopub.status.idle": "2024-06-30T01:08:49.985355Z",
     "shell.execute_reply": "2024-06-30T01:08:49.984829Z",
     "shell.execute_reply.started": "2024-06-30T01:08:49.813002Z"
    }
   },
   "outputs": [
    {
     "data": {
      "image/png": "[encoded data removed]",
      "text/plain": [
       "<Figure size 640x480 with 1 Axes>"
      ]
     },
     "metadata": {},
     "output_type": "display_data"
    }
   ],
   "source": [
    "# male vs female\n",
    "g3 = plt.pie(df_noMissing_validAge['sex'].value_counts(),\n",
    "             labels=df_noMissing_validAge['sex'].value_counts().index,\n",
    "             autopct='%.1f%%',  #Display the percentage\n",
    "             startangle=90,\n",
    "             explode=[0, 0.01],\n",
    "             colors=[\"#4374B3\",\"#FF0B04\"],\n",
    "             radius = 2)\n",
    "plt.show()"
   ]
  },
  {
   "cell_type": "code",
   "execution_count": 120,
   "id": "bcff8891",
   "metadata": {
    "execution": {
     "iopub.execute_input": "2024-06-30T01:09:40.089070Z",
     "iopub.status.busy": "2024-06-30T01:09:40.089070Z",
     "iopub.status.idle": "2024-06-30T01:09:40.221495Z",
     "shell.execute_reply": "2024-06-30T01:09:40.221495Z",
     "shell.execute_reply.started": "2024-06-30T01:09:40.089070Z"
    }
   },
   "outputs": [
    {
     "data": {
      "image/png": "[encoded data removed]",
      "text/plain": [
       "<Figure size 640x480 with 1 Axes>"
      ]
     },
     "metadata": {},
     "output_type": "display_data"
    }
   ],
   "source": [
    "# male vs female age is <= 45 \n",
    "df_noMissing_validAge_less45 = df_noMissing_validAge[df_noMissing_validAge['age']<=45]['sex'].value_counts()\n",
    "g3 = plt.pie([df_noMissing_validAge_less45['男(male)'], df_noMissing_validAge_less45['女(Female)']],\n",
    "             labels=['男(male)','女(Female)'],\n",
    "             autopct='%.1f%%',  # Display the percentage\n",
    "             startangle=90,\n",
    "             explode=[0,0.01],\n",
    "             colors=[\"#4374B3\",\"#FF0B04\"],\n",
    "             radius = 2)\n",
    "plt.show()"
   ]
  },
  {
   "cell_type": "code",
   "execution_count": 121,
   "id": "efb234ae",
   "metadata": {
    "execution": {
     "iopub.execute_input": "2024-06-30T01:09:50.361645Z",
     "iopub.status.busy": "2024-06-30T01:09:50.361645Z",
     "iopub.status.idle": "2024-06-30T01:09:50.473064Z",
     "shell.execute_reply": "2024-06-30T01:09:50.473064Z",
     "shell.execute_reply.started": "2024-06-30T01:09:50.361645Z"
    }
   },
   "outputs": [
    {
     "name": "stdout",
     "output_type": "stream",
     "text": [
      "Male Total: 1203483\n",
      "Female Total: 712880\n",
      "Member Total: 1916363\n"
     ]
    }
   ],
   "source": [
    "male_total = df_noMissing_validAge['sex'].value_counts()['男(male)']\n",
    "female_total = df_noMissing_validAge['sex'].value_counts()['女(Female)']\n",
    "member_total = male_total + female_total\n",
    "\n",
    "print(f\"Male Total: {male_total}\")\n",
    "print(f\"Female Total: {female_total}\")\n",
    "print(f\"Member Total: {member_total}\")"
   ]
  },
  {
   "cell_type": "code",
   "execution_count": 123,
   "id": "a05245a0",
   "metadata": {
    "execution": {
     "iopub.execute_input": "2024-06-30T01:10:11.039167Z",
     "iopub.status.busy": "2024-06-30T01:10:11.039167Z",
     "iopub.status.idle": "2024-06-30T01:10:11.049453Z",
     "shell.execute_reply": "2024-06-30T01:10:11.049453Z",
     "shell.execute_reply.started": "2024-06-30T01:10:11.039167Z"
    }
   },
   "outputs": [
    {
     "data": {
      "text/html": [
       "<div>\n",
       "<style scoped>\n",
       "    .dataframe tbody tr th:only-of-type {\n",
       "        vertical-align: middle;\n",
       "    }\n",
       "\n",
       "    .dataframe tbody tr th {\n",
       "        vertical-align: top;\n",
       "    }\n",
       "\n",
       "    .dataframe thead th {\n",
       "        text-align: right;\n",
       "    }\n",
       "</style>\n",
       "<table border=\"1\" class=\"dataframe\">\n",
       "  <thead>\n",
       "    <tr style=\"text-align: right;\">\n",
       "      <th></th>\n",
       "      <th>age</th>\n",
       "      <th>sex</th>\n",
       "      <th>count</th>\n",
       "      <th>bins</th>\n",
       "    </tr>\n",
       "  </thead>\n",
       "  <tbody>\n",
       "    <tr>\n",
       "      <th>0</th>\n",
       "      <td>15</td>\n",
       "      <td>男(male)</td>\n",
       "      <td>1</td>\n",
       "      <td>(14, 20]</td>\n",
       "    </tr>\n",
       "    <tr>\n",
       "      <th>1</th>\n",
       "      <td>22</td>\n",
       "      <td>男(male)</td>\n",
       "      <td>1</td>\n",
       "      <td>(20, 25]</td>\n",
       "    </tr>\n",
       "    <tr>\n",
       "      <th>2</th>\n",
       "      <td>23</td>\n",
       "      <td>女(Female)</td>\n",
       "      <td>1</td>\n",
       "      <td>(20, 25]</td>\n",
       "    </tr>\n",
       "    <tr>\n",
       "      <th>3</th>\n",
       "      <td>24</td>\n",
       "      <td>女(Female)</td>\n",
       "      <td>40</td>\n",
       "      <td>(20, 25]</td>\n",
       "    </tr>\n",
       "    <tr>\n",
       "      <th>4</th>\n",
       "      <td>24</td>\n",
       "      <td>男(male)</td>\n",
       "      <td>27</td>\n",
       "      <td>(20, 25]</td>\n",
       "    </tr>\n",
       "    <tr>\n",
       "      <th>...</th>\n",
       "      <td>...</td>\n",
       "      <td>...</td>\n",
       "      <td>...</td>\n",
       "      <td>...</td>\n",
       "    </tr>\n",
       "    <tr>\n",
       "      <th>154</th>\n",
       "      <td>99</td>\n",
       "      <td>女(Female)</td>\n",
       "      <td>438</td>\n",
       "      <td>(95, 100]</td>\n",
       "    </tr>\n",
       "    <tr>\n",
       "      <th>155</th>\n",
       "      <td>100</td>\n",
       "      <td>男(male)</td>\n",
       "      <td>580</td>\n",
       "      <td>(95, 100]</td>\n",
       "    </tr>\n",
       "    <tr>\n",
       "      <th>156</th>\n",
       "      <td>100</td>\n",
       "      <td>女(Female)</td>\n",
       "      <td>297</td>\n",
       "      <td>(95, 100]</td>\n",
       "    </tr>\n",
       "    <tr>\n",
       "      <th>157</th>\n",
       "      <td>101</td>\n",
       "      <td>男(male)</td>\n",
       "      <td>391</td>\n",
       "      <td>(100, 105]</td>\n",
       "    </tr>\n",
       "    <tr>\n",
       "      <th>158</th>\n",
       "      <td>101</td>\n",
       "      <td>女(Female)</td>\n",
       "      <td>200</td>\n",
       "      <td>(100, 105]</td>\n",
       "    </tr>\n",
       "  </tbody>\n",
       "</table>\n",
       "<p>159 rows × 4 columns</p>\n",
       "</div>"
      ],
      "text/plain": [
       "     age        sex  count        bins\n",
       "0     15    男(male)      1    (14, 20]\n",
       "1     22    男(male)      1    (20, 25]\n",
       "2     23  女(Female)      1    (20, 25]\n",
       "3     24  女(Female)     40    (20, 25]\n",
       "4     24    男(male)     27    (20, 25]\n",
       "..   ...        ...    ...         ...\n",
       "154   99  女(Female)    438   (95, 100]\n",
       "155  100    男(male)    580   (95, 100]\n",
       "156  100  女(Female)    297   (95, 100]\n",
       "157  101    男(male)    391  (100, 105]\n",
       "158  101  女(Female)    200  (100, 105]\n",
       "\n",
       "[159 rows x 4 columns]"
      ]
     },
     "execution_count": 123,
     "metadata": {},
     "output_type": "execute_result"
    }
   ],
   "source": [
    "# Binning as the age\n",
    "age_band=[14,20,25,30,35,40,45,50,55,60,65,70,75,80,85,90,95,100,105,110]\n",
    "df_genderGroupByAge['bins']=pd.cut(df_genderGroupByAge['age'], bins=age_band)\n",
    "df_genderGroupByAge"
   ]
  },
  {
   "cell_type": "code",
   "execution_count": 124,
   "id": "6282f3af",
   "metadata": {
    "execution": {
     "iopub.execute_input": "2024-06-30T01:10:16.951889Z",
     "iopub.status.busy": "2024-06-30T01:10:16.951385Z",
     "iopub.status.idle": "2024-06-30T01:10:16.958742Z",
     "shell.execute_reply": "2024-06-30T01:10:16.958742Z",
     "shell.execute_reply.started": "2024-06-30T01:10:16.951889Z"
    }
   },
   "outputs": [
    {
     "name": "stdout",
     "output_type": "stream",
     "text": [
      "<class 'pandas.core.arrays.categorical.Categorical'>\n",
      "[(14, 20], (20, 25], (25, 30], (30, 35], (35, 40], ..., (80, 85], (85, 90], (90, 95], (95, 100], (100, 105]]\n",
      "Length: 18\n",
      "Categories (19, interval[int64, right]): [(14, 20] < (20, 25] < (25, 30] < (30, 35] ... (90, 95] < (95, 100] < (100, 105] < (105, 110]] \n",
      "\n",
      "[(100, 105], (95, 100], (90, 95], (85, 90], (80, 85], ..., (35, 40], (30, 35], (25, 30], (20, 25], (14, 20]]\n",
      "Length: 18\n",
      "Categories (19, interval[int64, right]): [(14, 20] < (20, 25] < (25, 30] < (30, 35] ... (90, 95] < (95, 100] < (100, 105] < (105, 110]]\n"
     ]
    }
   ],
   "source": [
    "orders = df_genderGroupByAge['bins'].unique()\n",
    "print(type(orders))\n",
    "print(orders,'\\n')\n",
    "print(orders[::-1])"
   ]
  },
  {
   "cell_type": "code",
   "execution_count": 125,
   "id": "cf343956-183e-4b30-b98a-f12180a97bd0",
   "metadata": {
    "execution": {
     "iopub.execute_input": "2024-06-30T01:10:19.319477Z",
     "iopub.status.busy": "2024-06-30T01:10:19.319477Z",
     "iopub.status.idle": "2024-06-30T01:10:19.333416Z",
     "shell.execute_reply": "2024-06-30T01:10:19.333416Z",
     "shell.execute_reply.started": "2024-06-30T01:10:19.319477Z"
    }
   },
   "outputs": [
    {
     "name": "stdout",
     "output_type": "stream",
     "text": [
      "       bins   count  preportion\n",
      "0  (14, 20]       0    0.000000\n",
      "1  (20, 25]     661    0.000927\n",
      "2  (25, 30]   49519    0.069463\n",
      "3  (30, 35]  111018    0.155732\n",
      "4  (35, 40]   99623    0.139747 \n",
      "\n",
      "       bins   count    preportion\n",
      "0  (14, 20]       1  8.309216e-07\n",
      "1  (20, 25]     431  3.581272e-04\n",
      "2  (25, 30]   35430  2.943955e-02\n",
      "3  (30, 35]  100651  8.363309e-02\n",
      "4  (35, 40]  106231  8.826963e-02\n"
     ]
    }
   ],
   "source": [
    "# get the female band with number and percentage\n",
    "df_bins_female=df_genderGroupByAge[df_genderGroupByAge['sex']=='女(Female)'].groupby('bins',as_index=False).agg({'count':'sum'})\n",
    "df_bins_female['preportion'] = df_bins_female['count'] /df_bins_female['count'].sum()\n",
    "print(df_bins_female.head(),'\\n')\n",
    "\n",
    "# get the male band with number and percentage\n",
    "df_bins_male=df_genderGroupByAge[df_genderGroupByAge['sex']=='男(male)'].groupby('bins',as_index=False).agg({'count':'sum'})\n",
    "df_bins_male['preportion'] = df_bins_male['count'] /df_bins_male['count'].sum()\n",
    "print(df_bins_male.head())"
   ]
  },
  {
   "cell_type": "code",
   "execution_count": 126,
   "id": "49cbfa1a",
   "metadata": {
    "execution": {
     "iopub.execute_input": "2024-06-30T01:10:26.556184Z",
     "iopub.status.busy": "2024-06-30T01:10:26.555188Z",
     "iopub.status.idle": "2024-06-30T01:10:26.564955Z",
     "shell.execute_reply": "2024-06-30T01:10:26.564955Z",
     "shell.execute_reply.started": "2024-06-30T01:10:26.556184Z"
    }
   },
   "outputs": [
    {
     "name": "stdout",
     "output_type": "stream",
     "text": [
      "       bins   count  preportion percentage\n",
      "0  (14, 20]       0    0.000000      0.00%\n",
      "1  (20, 25]     661    0.000927      0.09%\n",
      "2  (25, 30]   49519    0.069463      6.95%\n",
      "3  (30, 35]  111018    0.155732     15.57%\n",
      "4  (35, 40]   99623    0.139747     13.97% \n",
      "\n",
      "       bins   count    preportion percentage\n",
      "0  (14, 20]       1  8.309216e-07      0.00%\n",
      "1  (20, 25]     431  3.581272e-04      0.04%\n",
      "2  (25, 30]   35430  2.943955e-02      2.94%\n",
      "3  (30, 35]  100651  8.363309e-02      8.36%\n",
      "4  (35, 40]  106231  8.826963e-02      8.83%\n"
     ]
    }
   ],
   "source": [
    "df_bins_female['percentage'] = df_bins_female['preportion'].apply(lambda x: format(x,'.2%'))\n",
    "print(df_bins_female.head(),'\\n')\n",
    "\n",
    "df_bins_male['percentage']=df_bins_male['preportion'].apply(lambda x: format(x,'.2%'))\n",
    "print(df_bins_male.head())"
   ]
  },
  {
   "cell_type": "code",
   "execution_count": 93,
   "id": "b3f12225",
   "metadata": {
    "execution": {
     "iopub.execute_input": "2024-06-30T00:59:52.846152Z",
     "iopub.status.busy": "2024-06-30T00:59:52.845175Z",
     "iopub.status.idle": "2024-06-30T00:59:52.849207Z",
     "shell.execute_reply": "2024-06-30T00:59:52.849207Z",
     "shell.execute_reply.started": "2024-06-30T00:59:52.846152Z"
    }
   },
   "outputs": [],
   "source": [
    "from matplotlib import ticker"
   ]
  },
  {
   "cell_type": "code",
   "execution_count": 127,
   "id": "9638d50d",
   "metadata": {
    "execution": {
     "iopub.execute_input": "2024-06-30T01:10:34.358420Z",
     "iopub.status.busy": "2024-06-30T01:10:34.358420Z",
     "iopub.status.idle": "2024-06-30T01:10:34.701230Z",
     "shell.execute_reply": "2024-06-30T01:10:34.701230Z",
     "shell.execute_reply.started": "2024-06-30T01:10:34.358420Z"
    }
   },
   "outputs": [
    {
     "data": {
      "text/plain": [
       "<Figure size 640x480 with 0 Axes>"
      ]
     },
     "metadata": {},
     "output_type": "display_data"
    },
    {
     "data": {
      "image/png": "[encoded data removed]",
      "text/plain": [
       "<Figure size 1500x1000 with 1 Axes>"
      ]
     },
     "metadata": {},
     "output_type": "display_data"
    }
   ],
   "source": [
    "plt.clf()\n",
    "# Set the figure style to \"dark\"\n",
    "sns.set_style(\"darkgrid\")\n",
    "\n",
    "plt.figure(figsize=(15,10))\n",
    "# if no clause below, there'll be warning\"Glyph 8722 (\\N{MINUS SIGN}) missing from current font.\"\n",
    "plt.rc('axes', unicode_minus=False) \n",
    "\n",
    "#sns.set_palette(color_female)\n",
    "g4 = sns.barplot(data=df_bins_female, y='bins', \n",
    "                 x=-df_bins_female['preportion'], \n",
    "                 order = df_bins_female['bins'].unique()[::-1],\n",
    "                 palette=sns.color_palette(\"Reds_r\",18))\n",
    "\n",
    "g4 = sns.barplot(data=df_bins_male, y='bins', \n",
    "                 x=df_bins_male['percentage'].str.strip('%').astype(float)/100, \n",
    "                 order = df_bins_male['bins'].unique()[::-1],\n",
    "                 palette=sns.color_palette('Blues_r',18))\n",
    "# g4.set_xticklabels(step=2,rotation=40)\n",
    "g4.xaxis.set_major_formatter(ticker.PercentFormatter(xmax=1,decimals=1))\n",
    "g4.bar_label(g4.containers[0])\n",
    "g4.bar_label(g4.containers[1])\n",
    "\n",
    "plt.show()"
   ]
  },
  {
   "cell_type": "markdown",
   "id": "d6317938",
   "metadata": {},
   "source": [
    "# 5 Conclusion"
   ]
  },
  {
   "cell_type": "markdown",
   "id": "ffcbbe50",
   "metadata": {},
   "source": [
    "1. There are 1,956,731 XXX members in Shanghai, the database is upto Dec. 2021.\n",
    "\n",
    "2. There are two peaks in the number of party members based on their birth year, around 1954 and 1982, both exceeding 40,000.\n",
    "\n",
    "3. The number of XXX members based on their birth year had a trough, in 1964, it was less than 20,000. There are also troughs before the 1940s and after the 1990s, but they were too old or too young, it could not be concluded that they were also troughs there.\n",
    "\n",
    "4. There are far more male than female overall, 62.8% vs 37.2%. But there are more female than male before the age of 45."
   ]
  },
  {
   "cell_type": "code",
   "execution_count": 128,
   "id": "a5a10ea7-ee8c-484b-9da9-329b8fa60cf1",
   "metadata": {
    "execution": {
     "iopub.execute_input": "2024-06-30T01:14:34.282571Z",
     "iopub.status.busy": "2024-06-30T01:14:34.281561Z",
     "iopub.status.idle": "2024-06-30T01:14:35.387921Z",
     "shell.execute_reply": "2024-06-30T01:14:35.387407Z",
     "shell.execute_reply.started": "2024-06-30T01:14:34.282571Z"
    }
   },
   "outputs": [
    {
     "name": "stdout",
     "output_type": "stream",
     "text": [
      "conda 23.7.4\n"
     ]
    }
   ],
   "source": [
    "!conda -V"
   ]
  }
 ],
 "metadata": {
  "kernelspec": {
   "display_name": "Python 3 (ipykernel)",
   "language": "python",
   "name": "python3"
  },
  "language_info": {
   "codemirror_mode": {
    "name": "ipython",
    "version": 3
   },
   "file_extension": ".py",
   "mimetype": "text/x-python",
   "name": "python",
   "nbconvert_exporter": "python",
   "pygments_lexer": "ipython3",
   "version": "3.11.5"
  }
 },
 "nbformat": 4,
 "nbformat_minor": 5
}
